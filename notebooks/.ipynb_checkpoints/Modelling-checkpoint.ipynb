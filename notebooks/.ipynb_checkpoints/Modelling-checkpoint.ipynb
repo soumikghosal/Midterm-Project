{
 "cells": [
  {
   "cell_type": "code",
   "execution_count": 1,
   "id": "1db8e90d",
   "metadata": {},
   "outputs": [
    {
     "ename": "RuntimeError",
     "evalue": "Working outside of request context.\n\nThis typically means that you attempted to use functionality that needed\nan active HTTP request. Consult the documentation on testing for\ninformation about how to avoid this problem.",
     "output_type": "error",
     "traceback": [
      "\u001b[1;31m---------------------------------------------------------------------------\u001b[0m",
      "\u001b[1;31mRuntimeError\u001b[0m                              Traceback (most recent call last)",
      "Cell \u001b[1;32mIn[1], line 18\u001b[0m\n\u001b[0;32m     16\u001b[0m \u001b[38;5;28;01mwith\u001b[39;00m \u001b[38;5;28mopen\u001b[39m(\u001b[38;5;124m\"\u001b[39m\u001b[38;5;124m../models/xgb.bin\u001b[39m\u001b[38;5;124m\"\u001b[39m, \u001b[38;5;124m\"\u001b[39m\u001b[38;5;124mrb\u001b[39m\u001b[38;5;124m\"\u001b[39m) \u001b[38;5;28;01mas\u001b[39;00m file_in:\n\u001b[0;32m     17\u001b[0m     xgb_model \u001b[38;5;241m=\u001b[39m pickle\u001b[38;5;241m.\u001b[39mload(file_in)\n\u001b[1;32m---> 18\u001b[0m data \u001b[38;5;241m=\u001b[39m \u001b[43mrequest\u001b[49m\u001b[38;5;241;43m.\u001b[39;49m\u001b[43mget_json\u001b[49m()\n\u001b[0;32m     20\u001b[0m \u001b[38;5;66;03m# DictVectorizer\u001b[39;00m\n\u001b[0;32m     21\u001b[0m X_test \u001b[38;5;241m=\u001b[39m dv\u001b[38;5;241m.\u001b[39mtransform([data])    \n",
      "File \u001b[1;32m~\\anaconda3\\lib\\site-packages\\werkzeug\\local.py:316\u001b[0m, in \u001b[0;36m_ProxyLookup.__get__\u001b[1;34m(self, instance, owner)\u001b[0m\n\u001b[0;32m    313\u001b[0m     \u001b[38;5;28;01mreturn\u001b[39;00m \u001b[38;5;28mself\u001b[39m\n\u001b[0;32m    315\u001b[0m \u001b[38;5;28;01mtry\u001b[39;00m:\n\u001b[1;32m--> 316\u001b[0m     obj \u001b[38;5;241m=\u001b[39m \u001b[43minstance\u001b[49m\u001b[38;5;241;43m.\u001b[39;49m\u001b[43m_get_current_object\u001b[49m\u001b[43m(\u001b[49m\u001b[43m)\u001b[49m  \u001b[38;5;66;03m# type: ignore[misc]\u001b[39;00m\n\u001b[0;32m    317\u001b[0m \u001b[38;5;28;01mexcept\u001b[39;00m \u001b[38;5;167;01mRuntimeError\u001b[39;00m:\n\u001b[0;32m    318\u001b[0m     \u001b[38;5;28;01mif\u001b[39;00m \u001b[38;5;28mself\u001b[39m\u001b[38;5;241m.\u001b[39mfallback \u001b[38;5;129;01mis\u001b[39;00m \u001b[38;5;28;01mNone\u001b[39;00m:\n",
      "File \u001b[1;32m~\\anaconda3\\lib\\site-packages\\werkzeug\\local.py:513\u001b[0m, in \u001b[0;36mLocalProxy.__init__.<locals>._get_current_object\u001b[1;34m()\u001b[0m\n\u001b[0;32m    511\u001b[0m     obj \u001b[38;5;241m=\u001b[39m local\u001b[38;5;241m.\u001b[39mget()  \u001b[38;5;66;03m# type: ignore[union-attr]\u001b[39;00m\n\u001b[0;32m    512\u001b[0m \u001b[38;5;28;01mexcept\u001b[39;00m \u001b[38;5;167;01mLookupError\u001b[39;00m:\n\u001b[1;32m--> 513\u001b[0m     \u001b[38;5;28;01mraise\u001b[39;00m \u001b[38;5;167;01mRuntimeError\u001b[39;00m(unbound_message) \u001b[38;5;28;01mfrom\u001b[39;00m \u001b[38;5;28;01mNone\u001b[39;00m\n\u001b[0;32m    515\u001b[0m \u001b[38;5;28;01mreturn\u001b[39;00m get_name(obj)\n",
      "\u001b[1;31mRuntimeError\u001b[0m: Working outside of request context.\n\nThis typically means that you attempted to use functionality that needed\nan active HTTP request. Consult the documentation on testing for\ninformation about how to avoid this problem."
     ]
    }
   ],
   "source": [
    "import pickle\n",
    "\n",
    "from flask import Flask\n",
    "from flask import request\n",
    "from flask import jsonify\n",
    "\n",
    "with open(\"../models/dv.bin\", \"rb\") as file_in:\n",
    "    dv = pickle.load(file_in)\n",
    "    \n",
    "with open(\"../models/lr.bin\", \"rb\") as file_in:\n",
    "    lr = pickle.load(file_in)\n",
    "\n",
    "with open(\"../models/rf.bin\", \"rb\") as file_in:\n",
    "    rf = pickle.load(file_in)\n",
    "\n",
    "with open(\"../models/xgb.bin\", \"rb\") as file_in:\n",
    "    xgb_model = pickle.load(file_in)\n",
    "data = request.get_json()\n",
    "\n",
    "# DictVectorizer\n",
    "X_test = dv.transform([data])    \n",
    "\n",
    "# Logistic Regression\n",
    "lr_test_pred = lr.predict(X_test)[0]\n",
    "# Random Forest\n",
    "rf_test_pred = rf.predict(X_test)[0]\n",
    "# XGBoost\n",
    "features = dv.feature_names_\n",
    "dtest = xgb.DMatrix(X_test[0].reshape(1, -1), feature_names=features)\n",
    "y_pred = round(xgb_model.predict(dtest)[0])   \n",
    "\n",
    "# Ensembled\n",
    "lst = [lr_test_pred, rf_test_pred, y_pred]\n",
    "final_pred = max(set(lst), key=lst.count) "
   ]
  },
  {
   "cell_type": "code",
   "execution_count": null,
   "id": "f0adb3f7",
   "metadata": {},
   "outputs": [],
   "source": []
  },
  {
   "cell_type": "code",
   "execution_count": 2,
   "id": "c55d84e2",
   "metadata": {},
   "outputs": [],
   "source": [
    "import pandas as pd\n",
    "import numpy as np\n",
    "import matplotlib.pyplot as plt\n",
    "import seaborn as sns\n",
    "from pandas.api.types import is_numeric_dtype\n",
    "\n",
    "import warnings\n",
    "warnings.filterwarnings(\"ignore\")"
   ]
  },
  {
   "cell_type": "code",
   "execution_count": 3,
   "id": "9610aa6b",
   "metadata": {},
   "outputs": [
    {
     "data": {
      "text/html": [
       "<div>\n",
       "<style scoped>\n",
       "    .dataframe tbody tr th:only-of-type {\n",
       "        vertical-align: middle;\n",
       "    }\n",
       "\n",
       "    .dataframe tbody tr th {\n",
       "        vertical-align: top;\n",
       "    }\n",
       "\n",
       "    .dataframe thead th {\n",
       "        text-align: right;\n",
       "    }\n",
       "</style>\n",
       "<table border=\"1\" class=\"dataframe\">\n",
       "  <thead>\n",
       "    <tr style=\"text-align: right;\">\n",
       "      <th></th>\n",
       "      <th>gender</th>\n",
       "      <th>age</th>\n",
       "      <th>hypertension</th>\n",
       "      <th>heart_disease</th>\n",
       "      <th>smoking_history</th>\n",
       "      <th>bmi</th>\n",
       "      <th>HbA1c_level</th>\n",
       "      <th>blood_glucose_level</th>\n",
       "      <th>diabetes</th>\n",
       "    </tr>\n",
       "  </thead>\n",
       "  <tbody>\n",
       "    <tr>\n",
       "      <th>0</th>\n",
       "      <td>Female</td>\n",
       "      <td>80.0</td>\n",
       "      <td>0</td>\n",
       "      <td>1</td>\n",
       "      <td>never</td>\n",
       "      <td>25.19</td>\n",
       "      <td>6.6</td>\n",
       "      <td>140</td>\n",
       "      <td>0</td>\n",
       "    </tr>\n",
       "    <tr>\n",
       "      <th>1</th>\n",
       "      <td>Female</td>\n",
       "      <td>54.0</td>\n",
       "      <td>0</td>\n",
       "      <td>0</td>\n",
       "      <td>No Info</td>\n",
       "      <td>27.32</td>\n",
       "      <td>6.6</td>\n",
       "      <td>80</td>\n",
       "      <td>0</td>\n",
       "    </tr>\n",
       "    <tr>\n",
       "      <th>2</th>\n",
       "      <td>Male</td>\n",
       "      <td>28.0</td>\n",
       "      <td>0</td>\n",
       "      <td>0</td>\n",
       "      <td>never</td>\n",
       "      <td>27.32</td>\n",
       "      <td>5.7</td>\n",
       "      <td>158</td>\n",
       "      <td>0</td>\n",
       "    </tr>\n",
       "    <tr>\n",
       "      <th>3</th>\n",
       "      <td>Female</td>\n",
       "      <td>36.0</td>\n",
       "      <td>0</td>\n",
       "      <td>0</td>\n",
       "      <td>current</td>\n",
       "      <td>23.45</td>\n",
       "      <td>5.0</td>\n",
       "      <td>155</td>\n",
       "      <td>0</td>\n",
       "    </tr>\n",
       "    <tr>\n",
       "      <th>4</th>\n",
       "      <td>Male</td>\n",
       "      <td>76.0</td>\n",
       "      <td>1</td>\n",
       "      <td>1</td>\n",
       "      <td>current</td>\n",
       "      <td>20.14</td>\n",
       "      <td>4.8</td>\n",
       "      <td>155</td>\n",
       "      <td>0</td>\n",
       "    </tr>\n",
       "  </tbody>\n",
       "</table>\n",
       "</div>"
      ],
      "text/plain": [
       "   gender   age  hypertension  heart_disease smoking_history    bmi  \\\n",
       "0  Female  80.0             0              1           never  25.19   \n",
       "1  Female  54.0             0              0         No Info  27.32   \n",
       "2    Male  28.0             0              0           never  27.32   \n",
       "3  Female  36.0             0              0         current  23.45   \n",
       "4    Male  76.0             1              1         current  20.14   \n",
       "\n",
       "   HbA1c_level  blood_glucose_level  diabetes  \n",
       "0          6.6                  140         0  \n",
       "1          6.6                   80         0  \n",
       "2          5.7                  158         0  \n",
       "3          5.0                  155         0  \n",
       "4          4.8                  155         0  "
      ]
     },
     "execution_count": 3,
     "metadata": {},
     "output_type": "execute_result"
    }
   ],
   "source": [
    "df = pd.read_csv(\"../data/diabetes_prediction_dataset.csv\")\n",
    "df.head()"
   ]
  },
  {
   "cell_type": "code",
   "execution_count": 4,
   "id": "82311b17",
   "metadata": {},
   "outputs": [
    {
     "name": "stdout",
     "output_type": "stream",
     "text": [
      "<class 'pandas.core.frame.DataFrame'>\n",
      "RangeIndex: 100000 entries, 0 to 99999\n",
      "Data columns (total 9 columns):\n",
      " #   Column               Non-Null Count   Dtype  \n",
      "---  ------               --------------   -----  \n",
      " 0   gender               100000 non-null  object \n",
      " 1   age                  100000 non-null  float64\n",
      " 2   hypertension         100000 non-null  int64  \n",
      " 3   heart_disease        100000 non-null  int64  \n",
      " 4   smoking_history      100000 non-null  object \n",
      " 5   bmi                  100000 non-null  float64\n",
      " 6   HbA1c_level          100000 non-null  float64\n",
      " 7   blood_glucose_level  100000 non-null  int64  \n",
      " 8   diabetes             100000 non-null  int64  \n",
      "dtypes: float64(3), int64(4), object(2)\n",
      "memory usage: 6.9+ MB\n"
     ]
    }
   ],
   "source": [
    "df.info()"
   ]
  },
  {
   "cell_type": "code",
   "execution_count": 5,
   "id": "0cbe2302",
   "metadata": {},
   "outputs": [],
   "source": [
    "def standardize_column_names(col_lst):\n",
    "    return [col.lower().replace(' ', '_') for col in col_lst]"
   ]
  },
  {
   "cell_type": "code",
   "execution_count": 6,
   "id": "a61edd3d",
   "metadata": {},
   "outputs": [],
   "source": [
    "# Standardizing column names\n",
    "df.columns = standardize_column_names(df.columns)"
   ]
  },
  {
   "cell_type": "markdown",
   "id": "935e57b1",
   "metadata": {},
   "source": [
    "### EDA"
   ]
  },
  {
   "cell_type": "code",
   "execution_count": 7,
   "id": "3bbb0a7f",
   "metadata": {},
   "outputs": [
    {
     "name": "stdout",
     "output_type": "stream",
     "text": [
      "Missing values in the DataFrame:\n"
     ]
    },
    {
     "data": {
      "text/plain": [
       "gender                 0\n",
       "age                    0\n",
       "hypertension           0\n",
       "heart_disease          0\n",
       "smoking_history        0\n",
       "bmi                    0\n",
       "hba1c_level            0\n",
       "blood_glucose_level    0\n",
       "diabetes               0\n",
       "dtype: int64"
      ]
     },
     "execution_count": 7,
     "metadata": {},
     "output_type": "execute_result"
    }
   ],
   "source": [
    "print(\"Missing values in the DataFrame:\")\n",
    "df.isna().sum()"
   ]
  },
  {
   "cell_type": "code",
   "execution_count": 8,
   "id": "9f4c5f1f",
   "metadata": {},
   "outputs": [],
   "source": [
    "# Seperate lists for numerical and categorical columns\n",
    "num_col = [col for col in df.columns if is_numeric_dtype(df[col])]\n",
    "cat_col = [col for col in df.columns if col not in num_col]"
   ]
  },
  {
   "cell_type": "code",
   "execution_count": 9,
   "id": "0c260173",
   "metadata": {},
   "outputs": [
    {
     "data": {
      "text/plain": [
       "['age',\n",
       " 'hypertension',\n",
       " 'heart_disease',\n",
       " 'bmi',\n",
       " 'hba1c_level',\n",
       " 'blood_glucose_level',\n",
       " 'diabetes']"
      ]
     },
     "execution_count": 9,
     "metadata": {},
     "output_type": "execute_result"
    }
   ],
   "source": [
    "num_col"
   ]
  },
  {
   "cell_type": "markdown",
   "id": "bab91316",
   "metadata": {},
   "source": [
    "### Note: \n",
    "- Columns like diabetes, hypertension and heart_disease are categorical variable (dichotomous) already encoded as 0 (No) and 1 (Yes)"
   ]
  },
  {
   "cell_type": "code",
   "execution_count": 10,
   "id": "8d0208c7",
   "metadata": {},
   "outputs": [
    {
     "name": "stdout",
     "output_type": "stream",
     "text": [
      "Unique Values in the categorical columns are:\n",
      "\n",
      "gender: 3 which are ['Female' 'Male' 'Other']\n",
      "smoking_history: 6 which are ['never' 'No Info' 'current' 'former' 'ever' 'not current']\n"
     ]
    }
   ],
   "source": [
    "# Check for the unique values of the categorical variables\n",
    "\n",
    "print(\"Unique Values in the categorical columns are:\\n\")\n",
    "for col in cat_col:\n",
    "    print(f\"{col}: {df[col].nunique()} which are {df[col].unique()}\")"
   ]
  },
  {
   "cell_type": "code",
   "execution_count": 11,
   "id": "2ede46ab",
   "metadata": {},
   "outputs": [
    {
     "name": "stdout",
     "output_type": "stream",
     "text": [
      "The number of duplicate rows: 3854\n"
     ]
    }
   ],
   "source": [
    "# Check for duplicate rows\n",
    "print(f\"The number of duplicate rows: {df[df.duplicated()].shape[0]}\")"
   ]
  },
  {
   "cell_type": "code",
   "execution_count": 12,
   "id": "97246c73",
   "metadata": {},
   "outputs": [
    {
     "data": {
      "text/plain": [
       "(96146, 9)"
      ]
     },
     "execution_count": 12,
     "metadata": {},
     "output_type": "execute_result"
    }
   ],
   "source": [
    "df = df.drop_duplicates()\n",
    "df.shape"
   ]
  },
  {
   "cell_type": "markdown",
   "id": "667ed274",
   "metadata": {},
   "source": [
    "### UNIVARIATE ANALYSIS"
   ]
  },
  {
   "cell_type": "code",
   "execution_count": 13,
   "id": "6caaa4e3",
   "metadata": {
    "scrolled": false
   },
   "outputs": [
    {
     "data": {
      "text/html": [
       "<div>\n",
       "<style scoped>\n",
       "    .dataframe tbody tr th:only-of-type {\n",
       "        vertical-align: middle;\n",
       "    }\n",
       "\n",
       "    .dataframe tbody tr th {\n",
       "        vertical-align: top;\n",
       "    }\n",
       "\n",
       "    .dataframe thead th {\n",
       "        text-align: right;\n",
       "    }\n",
       "</style>\n",
       "<table border=\"1\" class=\"dataframe\">\n",
       "  <thead>\n",
       "    <tr style=\"text-align: right;\">\n",
       "      <th></th>\n",
       "      <th>age</th>\n",
       "      <th>hypertension</th>\n",
       "      <th>heart_disease</th>\n",
       "      <th>bmi</th>\n",
       "      <th>hba1c_level</th>\n",
       "      <th>blood_glucose_level</th>\n",
       "      <th>diabetes</th>\n",
       "    </tr>\n",
       "  </thead>\n",
       "  <tbody>\n",
       "    <tr>\n",
       "      <th>count</th>\n",
       "      <td>96146.000000</td>\n",
       "      <td>96146.000000</td>\n",
       "      <td>96146.000000</td>\n",
       "      <td>96146.000000</td>\n",
       "      <td>96146.000000</td>\n",
       "      <td>96146.000000</td>\n",
       "      <td>96146.000000</td>\n",
       "    </tr>\n",
       "    <tr>\n",
       "      <th>mean</th>\n",
       "      <td>41.794326</td>\n",
       "      <td>0.077601</td>\n",
       "      <td>0.040803</td>\n",
       "      <td>27.321461</td>\n",
       "      <td>5.532609</td>\n",
       "      <td>138.218231</td>\n",
       "      <td>0.088220</td>\n",
       "    </tr>\n",
       "    <tr>\n",
       "      <th>std</th>\n",
       "      <td>22.462948</td>\n",
       "      <td>0.267544</td>\n",
       "      <td>0.197833</td>\n",
       "      <td>6.767716</td>\n",
       "      <td>1.073232</td>\n",
       "      <td>40.909771</td>\n",
       "      <td>0.283616</td>\n",
       "    </tr>\n",
       "    <tr>\n",
       "      <th>min</th>\n",
       "      <td>0.080000</td>\n",
       "      <td>0.000000</td>\n",
       "      <td>0.000000</td>\n",
       "      <td>10.010000</td>\n",
       "      <td>3.500000</td>\n",
       "      <td>80.000000</td>\n",
       "      <td>0.000000</td>\n",
       "    </tr>\n",
       "    <tr>\n",
       "      <th>25%</th>\n",
       "      <td>24.000000</td>\n",
       "      <td>0.000000</td>\n",
       "      <td>0.000000</td>\n",
       "      <td>23.400000</td>\n",
       "      <td>4.800000</td>\n",
       "      <td>100.000000</td>\n",
       "      <td>0.000000</td>\n",
       "    </tr>\n",
       "    <tr>\n",
       "      <th>50%</th>\n",
       "      <td>43.000000</td>\n",
       "      <td>0.000000</td>\n",
       "      <td>0.000000</td>\n",
       "      <td>27.320000</td>\n",
       "      <td>5.800000</td>\n",
       "      <td>140.000000</td>\n",
       "      <td>0.000000</td>\n",
       "    </tr>\n",
       "    <tr>\n",
       "      <th>75%</th>\n",
       "      <td>59.000000</td>\n",
       "      <td>0.000000</td>\n",
       "      <td>0.000000</td>\n",
       "      <td>29.860000</td>\n",
       "      <td>6.200000</td>\n",
       "      <td>159.000000</td>\n",
       "      <td>0.000000</td>\n",
       "    </tr>\n",
       "    <tr>\n",
       "      <th>max</th>\n",
       "      <td>80.000000</td>\n",
       "      <td>1.000000</td>\n",
       "      <td>1.000000</td>\n",
       "      <td>95.690000</td>\n",
       "      <td>9.000000</td>\n",
       "      <td>300.000000</td>\n",
       "      <td>1.000000</td>\n",
       "    </tr>\n",
       "  </tbody>\n",
       "</table>\n",
       "</div>"
      ],
      "text/plain": [
       "                age  hypertension  heart_disease           bmi   hba1c_level  \\\n",
       "count  96146.000000  96146.000000   96146.000000  96146.000000  96146.000000   \n",
       "mean      41.794326      0.077601       0.040803     27.321461      5.532609   \n",
       "std       22.462948      0.267544       0.197833      6.767716      1.073232   \n",
       "min        0.080000      0.000000       0.000000     10.010000      3.500000   \n",
       "25%       24.000000      0.000000       0.000000     23.400000      4.800000   \n",
       "50%       43.000000      0.000000       0.000000     27.320000      5.800000   \n",
       "75%       59.000000      0.000000       0.000000     29.860000      6.200000   \n",
       "max       80.000000      1.000000       1.000000     95.690000      9.000000   \n",
       "\n",
       "       blood_glucose_level      diabetes  \n",
       "count         96146.000000  96146.000000  \n",
       "mean            138.218231      0.088220  \n",
       "std              40.909771      0.283616  \n",
       "min              80.000000      0.000000  \n",
       "25%             100.000000      0.000000  \n",
       "50%             140.000000      0.000000  \n",
       "75%             159.000000      0.000000  \n",
       "max             300.000000      1.000000  "
      ]
     },
     "execution_count": 13,
     "metadata": {},
     "output_type": "execute_result"
    },
    {
     "data": {
      "image/png": "[encoded data removed]",
      "text/plain": [
       "<Figure size 640x480 with 1 Axes>"
      ]
     },
     "metadata": {},
     "output_type": "display_data"
    },
    {
     "data": {
      "image/png": "[encoded data removed]",
      "text/plain": [
       "<Figure size 640x480 with 1 Axes>"
      ]
     },
     "metadata": {},
     "output_type": "display_data"
    },
    {
     "data": {
      "image/png": "[encoded data removed]",
      "text/plain": [
       "<Figure size 640x480 with 1 Axes>"
      ]
     },
     "metadata": {},
     "output_type": "display_data"
    },
    {
     "data": {
      "image/png": "[encoded data removed]",
      "text/plain": [
       "<Figure size 640x480 with 1 Axes>"
      ]
     },
     "metadata": {},
     "output_type": "display_data"
    }
   ],
   "source": [
    "for i, col in enumerate(num_col):\n",
    "    if col not in ['diabetes', 'hypertension', 'heart_disease']:\n",
    "        plt.figure(i)\n",
    "        sns.histplot(df[col], kde=True, bins=20)\n",
    "        \n",
    "df.describe()"
   ]
  },
  {
   "cell_type": "markdown",
   "id": "057c259f",
   "metadata": {},
   "source": [
    "### FINDINGS\n",
    "\n",
    "-  \n",
    "- "
   ]
  },
  {
   "cell_type": "code",
   "execution_count": 14,
   "id": "63faf021",
   "metadata": {},
   "outputs": [
    {
     "data": {
      "image/png": "[encoded data removed]",
      "text/plain": [
       "<Figure size 640x480 with 1 Axes>"
      ]
     },
     "metadata": {},
     "output_type": "display_data"
    },
    {
     "data": {
      "image/png": "[encoded data removed]",
      "text/plain": [
       "<Figure size 640x480 with 1 Axes>"
      ]
     },
     "metadata": {},
     "output_type": "display_data"
    },
    {
     "data": {
      "image/png": "[encoded data removed]",
      "text/plain": [
       "<Figure size 640x480 with 1 Axes>"
      ]
     },
     "metadata": {},
     "output_type": "display_data"
    },
    {
     "data": {
      "image/png": "[encoded data removed]",
      "text/plain": [
       "<Figure size 640x480 with 1 Axes>"
      ]
     },
     "metadata": {},
     "output_type": "display_data"
    }
   ],
   "source": [
    "for i, col in enumerate(num_col):\n",
    "    if col not in ['diabetes', 'hypertension', 'heart_disease']:\n",
    "        plt.figure(i)\n",
    "        sns.boxplot(x='diabetes', y=col, data=df)"
   ]
  },
  {
   "cell_type": "markdown",
   "id": "0ec1e67f",
   "metadata": {},
   "source": [
    "### FINDINGS\n",
    "\n",
    "-  \n",
    "- "
   ]
  },
  {
   "cell_type": "markdown",
   "id": "f8c7e501",
   "metadata": {},
   "source": [
    "##### TARGET VARIABLE ANALYSIS"
   ]
  },
  {
   "cell_type": "code",
   "execution_count": 15,
   "id": "86983208",
   "metadata": {},
   "outputs": [
    {
     "data": {
      "image/png": "[encoded data removed]",
      "text/plain": [
       "<Figure size 640x480 with 1 Axes>"
      ]
     },
     "metadata": {},
     "output_type": "display_data"
    }
   ],
   "source": [
    "sns.countplot(x='diabetes', data=df)\n",
    "plt.title('Diabetes Distribution')\n",
    "plt.show()"
   ]
  },
  {
   "cell_type": "code",
   "execution_count": 16,
   "id": "a1be5a2a",
   "metadata": {},
   "outputs": [
    {
     "data": {
      "text/plain": [
       "diabetes\n",
       "0    0.91178\n",
       "1    0.08822\n",
       "Name: proportion, dtype: float64"
      ]
     },
     "execution_count": 16,
     "metadata": {},
     "output_type": "execute_result"
    }
   ],
   "source": [
    "df.diabetes.value_counts(normalize=True)"
   ]
  },
  {
   "cell_type": "markdown",
   "id": "adfc43af",
   "metadata": {},
   "source": [
    "### FINDINGS\n",
    "\n",
    "- \n",
    "- "
   ]
  },
  {
   "cell_type": "markdown",
   "id": "04bf6fde",
   "metadata": {},
   "source": [
    "### BIVARIATE DISTRIBUTION"
   ]
  },
  {
   "cell_type": "code",
   "execution_count": 17,
   "id": "51695e79",
   "metadata": {},
   "outputs": [
    {
     "data": {
      "text/plain": [
       "<Axes: >"
      ]
     },
     "execution_count": 17,
     "metadata": {},
     "output_type": "execute_result"
    },
    {
     "data": {
      "image/png": "[encoded data removed]",
      "text/plain": [
       "<Figure size 640x480 with 2 Axes>"
      ]
     },
     "metadata": {},
     "output_type": "display_data"
    }
   ],
   "source": [
    "corr = df[num_col].corr()\n",
    "sns.heatmap(corr, cmap=\"coolwarm\", annot=True, fmt='.2f')"
   ]
  },
  {
   "cell_type": "markdown",
   "id": "6cd051c5",
   "metadata": {},
   "source": [
    "### FINDINGS\n",
    "\n",
    "-  \n",
    "- "
   ]
  },
  {
   "cell_type": "markdown",
   "id": "3361e659",
   "metadata": {},
   "source": [
    "### MODELLING"
   ]
  },
  {
   "cell_type": "code",
   "execution_count": 18,
   "id": "91d81c28",
   "metadata": {},
   "outputs": [],
   "source": [
    "from sklearn.feature_extraction import DictVectorizer\n",
    "from sklearn.model_selection import train_test_split\n",
    "from sklearn.metrics import precision_score, recall_score, f1_score, confusion_matrix, classification_report, roc_auc_score"
   ]
  },
  {
   "cell_type": "markdown",
   "id": "1b8d7f44",
   "metadata": {},
   "source": [
    "#### LOGISTIC REGRESSION"
   ]
  },
  {
   "cell_type": "code",
   "execution_count": 19,
   "id": "b9c1b0d3",
   "metadata": {},
   "outputs": [],
   "source": [
    "from sklearn.linear_model import LogisticRegression"
   ]
  },
  {
   "cell_type": "code",
   "execution_count": 60,
   "id": "67012a28",
   "metadata": {},
   "outputs": [],
   "source": [
    "def linear_model_accuracy(data, col_removed=None, C=1.0):\n",
    "    \n",
    "    df_copy = data.copy()\n",
    "    \n",
    "    df_full_train, df_test = train_test_split(df_copy, test_size=0.2, random_state=1)\n",
    "    df_train, df_val = train_test_split(df_full_train, test_size=0.2, random_state=1)\n",
    "\n",
    "    y_train = df_train['diabetes']\n",
    "    y_val = df_val['diabetes']\n",
    "    y_test = df_test['diabetes']\n",
    "    y_full_train = df_full_train['diabetes']\n",
    "\n",
    "    del df_train['diabetes']\n",
    "    del df_val['diabetes']\n",
    "    del df_test['diabetes']\n",
    "    del df_full_train['diabetes']\n",
    "    \n",
    "    if col_removed!=None:\n",
    "        del df_train[col_removed]\n",
    "        del df_val[col_removed]\n",
    "        del df_test[col_removed]\n",
    "        del df_full_train[col_removed]\n",
    "\n",
    "    df_train_emb = df_train.to_dict(orient=\"records\")\n",
    "    df_val_emb = df_val.to_dict(orient=\"records\")\n",
    "\n",
    "    df_full_train_emb = df_full_train.to_dict(orient=\"records\")\n",
    "    df_test_emb = df_test.to_dict(orient=\"records\")\n",
    "\n",
    "    dv = DictVectorizer(sparse=False)\n",
    "\n",
    "    X_train = dv.fit_transform(df_train_emb)\n",
    "    X_val = dv.transform(df_val_emb)\n",
    "\n",
    "    X_full_train = dv.fit_transform(df_full_train_emb)\n",
    "    X_test = dv.transform(df_test_emb)\n",
    "\n",
    "    model = LogisticRegression(solver='liblinear', C=C, max_iter=1000, random_state=1)\n",
    "\n",
    "    model.fit(X_train, y_train)\n",
    "    pred_val = model.predict(X_val)\n",
    "\n",
    "    lr_lst.append((col, C, roc_auc_score(y_val, pred_val)))"
   ]
  },
  {
   "cell_type": "code",
   "execution_count": 61,
   "id": "5a1ef75d",
   "metadata": {},
   "outputs": [],
   "source": [
    "lr_lst = []"
   ]
  },
  {
   "cell_type": "code",
   "execution_count": 62,
   "id": "41a11fe2",
   "metadata": {},
   "outputs": [],
   "source": [
    "ind_cols = df.columns.tolist()\n",
    "ind_cols.remove('diabetes')"
   ]
  },
  {
   "cell_type": "code",
   "execution_count": 63,
   "id": "aee3475a",
   "metadata": {},
   "outputs": [],
   "source": [
    "for col in ind_cols+[None]:\n",
    "    for c in [0.01, 0.1, 1, 10, 100]:\n",
    "        linear_model_accuracy(data=df, col_removed=col, C = c)"
   ]
  },
  {
   "cell_type": "code",
   "execution_count": 106,
   "id": "4c7dd77c",
   "metadata": {},
   "outputs": [
    {
     "name": "stdout",
     "output_type": "stream",
     "text": [
      "optimal C: 100\n"
     ]
    }
   ],
   "source": [
    "# FIND THE MOST OPTIMAL VALUE OF C based on the ROC-AUC Score\n",
    "col_to_remove, opt_c, auc_score = lr_lst[np.argmax(np.array(lr_lst)[:, 2])]\n",
    "print(\"optimal C: %s\" %opt_c)\n",
    "\n",
    "df_copy = df.copy()\n",
    "\n",
    "df_full_train, df_test = train_test_split(df, test_size=0.2, random_state=1)\n",
    "df_train, df_val = train_test_split(df_full_train, test_size=0.2, random_state=1)\n",
    "\n",
    "y_train = df_train['diabetes']\n",
    "y_val = df_val['diabetes']\n",
    "y_test = df_test['diabetes']\n",
    "y_full_train = df_full_train['diabetes']\n",
    "\n",
    "del df_train['diabetes']\n",
    "del df_val['diabetes']\n",
    "del df_test['diabetes']\n",
    "del df_full_train['diabetes']\n",
    "\n",
    "if col_to_remove!=None:\n",
    "    del df_train[col_to_remove]\n",
    "    del df_val[col_to_remove]\n",
    "    del df_test[col_to_remove]\n",
    "    del df_full_train[col_to_remove]    \n",
    "\n",
    "df_train_emb = df_train.to_dict(orient=\"records\")\n",
    "df_val_emb = df_val.to_dict(orient=\"records\")\n",
    "\n",
    "df_full_train_emb = df_full_train.to_dict(orient=\"records\")\n",
    "df_test_emb = df_test.to_dict(orient=\"records\")\n",
    "\n",
    "dv = DictVectorizer(sparse=False)\n",
    "\n",
    "X_train = dv.fit_transform(df_train_emb)\n",
    "X_val = dv.transform(df_val_emb)\n",
    "\n",
    "X_full_train = dv.fit_transform(df_full_train_emb)\n",
    "X_test = dv.transform(df_test_emb)\n",
    "\n",
    "model = LogisticRegression(solver='liblinear', C=opt_c, max_iter=1000, random_state=1)\n",
    "\n",
    "model.fit(X_train, y_train)\n",
    "pred_val = model.predict(X_val)"
   ]
  },
  {
   "cell_type": "code",
   "execution_count": 107,
   "id": "7626b341",
   "metadata": {},
   "outputs": [
    {
     "data": {
      "text/plain": [
       "0.8193513275237414"
      ]
     },
     "execution_count": 107,
     "metadata": {},
     "output_type": "execute_result"
    }
   ],
   "source": [
    "roc_auc_score(y_val, pred_val)"
   ]
  },
  {
   "cell_type": "code",
   "execution_count": 108,
   "id": "d86a3feb",
   "metadata": {},
   "outputs": [
    {
     "name": "stdout",
     "output_type": "stream",
     "text": [
      "              precision    recall  f1-score   support\n",
      "\n",
      "           0       0.97      0.99      0.98     14045\n",
      "           1       0.85      0.65      0.74      1339\n",
      "\n",
      "    accuracy                           0.96     15384\n",
      "   macro avg       0.91      0.82      0.86     15384\n",
      "weighted avg       0.96      0.96      0.96     15384\n",
      "\n"
     ]
    }
   ],
   "source": [
    "print(classification_report(y_val, pred_val))"
   ]
  },
  {
   "cell_type": "code",
   "execution_count": 86,
   "id": "d5c0d65e",
   "metadata": {},
   "outputs": [],
   "source": [
    "# lr_test_pred = lr.predict(X_test)\n",
    "# print(classification_report(y_test, lr_test_pred))\n",
    "# print(roc_auc_score(y_test, lr_test_pred))"
   ]
  },
  {
   "cell_type": "markdown",
   "id": "d4f94888",
   "metadata": {},
   "source": [
    "### ENSEMBLED DECISION TREES Algorithms"
   ]
  },
  {
   "cell_type": "code",
   "execution_count": 87,
   "id": "dd2cc9b6",
   "metadata": {},
   "outputs": [],
   "source": [
    "from sklearn.ensemble import RandomForestClassifier"
   ]
  },
  {
   "cell_type": "code",
   "execution_count": 88,
   "id": "8a7285ee",
   "metadata": {
    "scrolled": true
   },
   "outputs": [],
   "source": [
    "df_full_train, df_test = train_test_split(df, test_size=0.2, random_state=1)\n",
    "df_train, df_val = train_test_split(df_full_train, test_size=0.2, random_state=1)\n",
    "\n",
    "y_train = df_train['diabetes']\n",
    "y_val = df_val['diabetes']\n",
    "y_test = df_test['diabetes']\n",
    "y_full_train = df_full_train['diabetes']\n",
    "\n",
    "del df_train['diabetes']\n",
    "del df_val['diabetes']\n",
    "del df_test['diabetes']\n",
    "del df_full_train['diabetes']\n",
    "\n",
    "df_train_emb = df_train.to_dict(orient=\"records\")\n",
    "df_val_emb = df_val.to_dict(orient=\"records\")\n",
    "\n",
    "df_full_train_emb = df_full_train.to_dict(orient=\"records\")\n",
    "df_test_emb = df_test.to_dict(orient=\"records\")\n",
    "\n",
    "dv = DictVectorizer(sparse=False)\n",
    "\n",
    "X_train = dv.fit_transform(df_train_emb)\n",
    "X_val = dv.transform(df_val_emb)\n",
    "\n",
    "X_full_train = dv.fit_transform(df_full_train_emb)\n",
    "X_test = dv.transform(df_test_emb)"
   ]
  },
  {
   "cell_type": "markdown",
   "id": "4040af56",
   "metadata": {},
   "source": [
    "#### RANDOM FOREST"
   ]
  },
  {
   "cell_type": "code",
   "execution_count": 89,
   "id": "1b84ed86",
   "metadata": {},
   "outputs": [],
   "source": [
    "rf_lst = []\n",
    "\n",
    "for depth in [10, 15, 20, 25]:\n",
    "    for est in range(10, 210, 10):\n",
    "        for n_split in [2, 5, 10]:\n",
    "            rf = RandomForestClassifier(n_estimators=est, max_depth=depth, min_samples_split=n_split, \n",
    "                                        random_state=1, n_jobs=-1)\n",
    "            rf.fit(X_train, y_train)\n",
    "            pred = rf.predict(X_val)\n",
    "            eval_score = roc_auc_score(y_val, pred)\n",
    "            rf_lst.append((depth, est, n_split, round(eval_score, 4)))"
   ]
  },
  {
   "cell_type": "code",
   "execution_count": 90,
   "id": "4a1545de",
   "metadata": {},
   "outputs": [
    {
     "data": {
      "text/plain": [
       "(20, 10, 2, 0.8449)"
      ]
     },
     "execution_count": 90,
     "metadata": {},
     "output_type": "execute_result"
    }
   ],
   "source": [
    "rf_lst[np.argmax(np.array(rf_lst)[:, 3])]"
   ]
  },
  {
   "cell_type": "markdown",
   "id": "b8477f62",
   "metadata": {},
   "source": [
    "#### XGBOOST"
   ]
  },
  {
   "cell_type": "code",
   "execution_count": 91,
   "id": "d8558079",
   "metadata": {},
   "outputs": [],
   "source": [
    "import xgboost as xgb"
   ]
  },
  {
   "cell_type": "code",
   "execution_count": 151,
   "id": "6dd66bc8",
   "metadata": {},
   "outputs": [
    {
     "data": {
      "text/plain": [
       "['age',\n",
       " 'blood_glucose_level',\n",
       " 'bmi',\n",
       " 'gender=Female',\n",
       " 'gender=Male',\n",
       " 'gender=Other',\n",
       " 'hba1c_level',\n",
       " 'heart_disease',\n",
       " 'hypertension',\n",
       " 'smoking_history=No Info',\n",
       " 'smoking_history=current',\n",
       " 'smoking_history=ever',\n",
       " 'smoking_history=former',\n",
       " 'smoking_history=never',\n",
       " 'smoking_history=not current']"
      ]
     },
     "execution_count": 151,
     "metadata": {},
     "output_type": "execute_result"
    }
   ],
   "source": [
    "features"
   ]
  },
  {
   "cell_type": "code",
   "execution_count": 93,
   "id": "aa0b328c",
   "metadata": {},
   "outputs": [],
   "source": [
    "features = dv.feature_names_\n",
    "dtrain = xgb.DMatrix(X_train, y_train, feature_names=features)\n",
    "dval = xgb.DMatrix(X_val, y_val, feature_names=features)\n",
    "\n",
    "dtest = xgb.DMatrix(X_test, y_test, feature_names=features)\n",
    "dfull_train = xgb.DMatrix(X_full_train, y_full_train, feature_names=features)"
   ]
  },
  {
   "cell_type": "code",
   "execution_count": 94,
   "id": "4ac7013e",
   "metadata": {},
   "outputs": [],
   "source": [
    "watchlist = [(dtrain, 'train'), (dval, 'val')]"
   ]
  },
  {
   "cell_type": "code",
   "execution_count": 95,
   "id": "00bbad87",
   "metadata": {
    "scrolled": true
   },
   "outputs": [
    {
     "name": "stdout",
     "output_type": "stream",
     "text": [
      "[0]\ttrain-logloss:0.31604\tval-logloss:0.31488\n",
      "[5]\ttrain-logloss:0.29581\tval-logloss:0.29503\n",
      "[10]\ttrain-logloss:0.27887\tval-logloss:0.27841\n",
      "[15]\ttrain-logloss:0.26423\tval-logloss:0.26404\n",
      "[20]\ttrain-logloss:0.25132\tval-logloss:0.25135\n",
      "[25]\ttrain-logloss:0.23976\tval-logloss:0.24002\n",
      "[30]\ttrain-logloss:0.22931\tval-logloss:0.22977\n",
      "[35]\ttrain-logloss:0.21979\tval-logloss:0.22043\n",
      "[40]\ttrain-logloss:0.21104\tval-logloss:0.21188\n",
      "[45]\ttrain-logloss:0.20299\tval-logloss:0.20403\n",
      "[50]\ttrain-logloss:0.19556\tval-logloss:0.19675\n",
      "[55]\ttrain-logloss:0.18866\tval-logloss:0.19001\n",
      "[60]\ttrain-logloss:0.18225\tval-logloss:0.18375\n",
      "[65]\ttrain-logloss:0.17628\tval-logloss:0.17790\n",
      "[70]\ttrain-logloss:0.17071\tval-logloss:0.17247\n",
      "[75]\ttrain-logloss:0.16549\tval-logloss:0.16736\n",
      "[80]\ttrain-logloss:0.16060\tval-logloss:0.16258\n",
      "[85]\ttrain-logloss:0.15602\tval-logloss:0.15810\n",
      "[90]\ttrain-logloss:0.15172\tval-logloss:0.15391\n",
      "[95]\ttrain-logloss:0.14770\tval-logloss:0.14997\n",
      "[100]\ttrain-logloss:0.14390\tval-logloss:0.14627\n",
      "[105]\ttrain-logloss:0.14033\tval-logloss:0.14279\n",
      "[110]\ttrain-logloss:0.13696\tval-logloss:0.13952\n",
      "[115]\ttrain-logloss:0.13378\tval-logloss:0.13643\n",
      "[120]\ttrain-logloss:0.13078\tval-logloss:0.13350\n",
      "[125]\ttrain-logloss:0.12794\tval-logloss:0.13072\n",
      "[130]\ttrain-logloss:0.12525\tval-logloss:0.12812\n",
      "[135]\ttrain-logloss:0.12271\tval-logloss:0.12565\n",
      "[140]\ttrain-logloss:0.12031\tval-logloss:0.12331\n",
      "[145]\ttrain-logloss:0.11802\tval-logloss:0.12111\n",
      "[150]\ttrain-logloss:0.11585\tval-logloss:0.11902\n",
      "[155]\ttrain-logloss:0.11380\tval-logloss:0.11706\n",
      "[160]\ttrain-logloss:0.11187\tval-logloss:0.11522\n",
      "[165]\ttrain-logloss:0.11003\tval-logloss:0.11347\n",
      "[170]\ttrain-logloss:0.10828\tval-logloss:0.11180\n",
      "[175]\ttrain-logloss:0.10662\tval-logloss:0.11022\n",
      "[180]\ttrain-logloss:0.10505\tval-logloss:0.10873\n",
      "[185]\ttrain-logloss:0.10358\tval-logloss:0.10733\n",
      "[190]\ttrain-logloss:0.10217\tval-logloss:0.10598\n",
      "[195]\ttrain-logloss:0.10083\tval-logloss:0.10470\n",
      "[199]\ttrain-logloss:0.09980\tval-logloss:0.10373\n",
      "[0]\ttrain-logloss:0.30702\tval-logloss:0.30602\n",
      "[5]\ttrain-logloss:0.25789\tval-logloss:0.25782\n",
      "[10]\ttrain-logloss:0.22444\tval-logloss:0.22504\n",
      "[15]\ttrain-logloss:0.19911\tval-logloss:0.20028\n",
      "[20]\ttrain-logloss:0.17909\tval-logloss:0.18071\n",
      "[25]\ttrain-logloss:0.16289\tval-logloss:0.16487\n",
      "[30]\ttrain-logloss:0.14956\tval-logloss:0.15184\n",
      "[35]\ttrain-logloss:0.13849\tval-logloss:0.14104\n",
      "[40]\ttrain-logloss:0.12924\tval-logloss:0.13206\n",
      "[45]\ttrain-logloss:0.12141\tval-logloss:0.12444\n",
      "[50]\ttrain-logloss:0.11471\tval-logloss:0.11799\n",
      "[55]\ttrain-logloss:0.10903\tval-logloss:0.11257\n",
      "[60]\ttrain-logloss:0.10420\tval-logloss:0.10797\n",
      "[65]\ttrain-logloss:0.10005\tval-logloss:0.10406\n",
      "[70]\ttrain-logloss:0.09647\tval-logloss:0.10069\n",
      "[75]\ttrain-logloss:0.09342\tval-logloss:0.09785\n",
      "[80]\ttrain-logloss:0.09076\tval-logloss:0.09540\n",
      "[85]\ttrain-logloss:0.08841\tval-logloss:0.09323\n",
      "[90]\ttrain-logloss:0.08647\tval-logloss:0.09139\n",
      "[95]\ttrain-logloss:0.08472\tval-logloss:0.08980\n",
      "[100]\ttrain-logloss:0.08323\tval-logloss:0.08848\n",
      "[105]\ttrain-logloss:0.08191\tval-logloss:0.08730\n",
      "[110]\ttrain-logloss:0.08073\tval-logloss:0.08630\n",
      "[115]\ttrain-logloss:0.07973\tval-logloss:0.08542\n",
      "[120]\ttrain-logloss:0.07885\tval-logloss:0.08468\n",
      "[125]\ttrain-logloss:0.07811\tval-logloss:0.08404\n",
      "[130]\ttrain-logloss:0.07742\tval-logloss:0.08346\n",
      "[135]\ttrain-logloss:0.07678\tval-logloss:0.08300\n",
      "[140]\ttrain-logloss:0.07623\tval-logloss:0.08263\n",
      "[145]\ttrain-logloss:0.07576\tval-logloss:0.08228\n",
      "[150]\ttrain-logloss:0.07536\tval-logloss:0.08200\n",
      "[155]\ttrain-logloss:0.07502\tval-logloss:0.08177\n",
      "[160]\ttrain-logloss:0.07467\tval-logloss:0.08152\n",
      "[165]\ttrain-logloss:0.07436\tval-logloss:0.08131\n",
      "[170]\ttrain-logloss:0.07408\tval-logloss:0.08116\n",
      "[175]\ttrain-logloss:0.07383\tval-logloss:0.08102\n",
      "[180]\ttrain-logloss:0.07360\tval-logloss:0.08088\n",
      "[185]\ttrain-logloss:0.07340\tval-logloss:0.08076\n",
      "[190]\ttrain-logloss:0.07322\tval-logloss:0.08064\n",
      "[195]\ttrain-logloss:0.07301\tval-logloss:0.08057\n",
      "[199]\ttrain-logloss:0.07286\tval-logloss:0.08054\n",
      "[0]\ttrain-logloss:0.27707\tval-logloss:0.27664\n",
      "[5]\ttrain-logloss:0.18001\tval-logloss:0.18163\n",
      "[10]\ttrain-logloss:0.13560\tval-logloss:0.13830\n",
      "[15]\ttrain-logloss:0.11100\tval-logloss:0.11454\n",
      "[20]\ttrain-logloss:0.09638\tval-logloss:0.10062\n",
      "[25]\ttrain-logloss:0.08759\tval-logloss:0.09253\n",
      "[30]\ttrain-logloss:0.08219\tval-logloss:0.08759\n",
      "[35]\ttrain-logloss:0.07871\tval-logloss:0.08460\n",
      "[40]\ttrain-logloss:0.07644\tval-logloss:0.08275\n",
      "[45]\ttrain-logloss:0.07495\tval-logloss:0.08172\n",
      "[50]\ttrain-logloss:0.07389\tval-logloss:0.08110\n",
      "[55]\ttrain-logloss:0.07309\tval-logloss:0.08067\n",
      "[60]\ttrain-logloss:0.07251\tval-logloss:0.08035\n",
      "[65]\ttrain-logloss:0.07184\tval-logloss:0.08035\n",
      "[70]\ttrain-logloss:0.07126\tval-logloss:0.08040\n",
      "[75]\ttrain-logloss:0.07073\tval-logloss:0.08038\n",
      "[80]\ttrain-logloss:0.06990\tval-logloss:0.08049\n",
      "[85]\ttrain-logloss:0.06902\tval-logloss:0.08064\n",
      "[90]\ttrain-logloss:0.06839\tval-logloss:0.08086\n",
      "[95]\ttrain-logloss:0.06754\tval-logloss:0.08098\n",
      "[100]\ttrain-logloss:0.06680\tval-logloss:0.08111\n",
      "[105]\ttrain-logloss:0.06452\tval-logloss:0.08121\n",
      "[110]\ttrain-logloss:0.06310\tval-logloss:0.08151\n",
      "[115]\ttrain-logloss:0.06150\tval-logloss:0.08173\n",
      "[120]\ttrain-logloss:0.06013\tval-logloss:0.08192\n",
      "[125]\ttrain-logloss:0.05919\tval-logloss:0.08207\n",
      "[130]\ttrain-logloss:0.05829\tval-logloss:0.08222\n",
      "[135]\ttrain-logloss:0.05775\tval-logloss:0.08240\n",
      "[140]\ttrain-logloss:0.05654\tval-logloss:0.08273\n",
      "[145]\ttrain-logloss:0.05618\tval-logloss:0.08291\n",
      "[150]\ttrain-logloss:0.05596\tval-logloss:0.08297\n",
      "[155]\ttrain-logloss:0.05513\tval-logloss:0.08324\n",
      "[160]\ttrain-logloss:0.05341\tval-logloss:0.08361\n",
      "[165]\ttrain-logloss:0.05207\tval-logloss:0.08402\n",
      "[170]\ttrain-logloss:0.05104\tval-logloss:0.08432\n",
      "[175]\ttrain-logloss:0.05022\tval-logloss:0.08470\n",
      "[180]\ttrain-logloss:0.04964\tval-logloss:0.08499\n",
      "[185]\ttrain-logloss:0.04890\tval-logloss:0.08524\n",
      "[190]\ttrain-logloss:0.04806\tval-logloss:0.08542\n",
      "[195]\ttrain-logloss:0.04720\tval-logloss:0.08565\n",
      "[199]\ttrain-logloss:0.04675\tval-logloss:0.08577\n",
      "[0]\ttrain-logloss:0.20820\tval-logloss:0.20920\n",
      "[5]\ttrain-logloss:0.10127\tval-logloss:0.10548\n",
      "[10]\ttrain-logloss:0.08005\tval-logloss:0.08644\n",
      "[15]\ttrain-logloss:0.07439\tval-logloss:0.08241\n",
      "[20]\ttrain-logloss:0.07221\tval-logloss:0.08152\n",
      "[25]\ttrain-logloss:0.07010\tval-logloss:0.08159\n",
      "[30]\ttrain-logloss:0.06683\tval-logloss:0.08220\n",
      "[35]\ttrain-logloss:0.06238\tval-logloss:0.08349\n",
      "[40]\ttrain-logloss:0.05890\tval-logloss:0.08479\n",
      "[45]\ttrain-logloss:0.05691\tval-logloss:0.08551\n",
      "[50]\ttrain-logloss:0.05433\tval-logloss:0.08631\n",
      "[55]\ttrain-logloss:0.05199\tval-logloss:0.08691\n",
      "[60]\ttrain-logloss:0.04733\tval-logloss:0.08931\n",
      "[65]\ttrain-logloss:0.04465\tval-logloss:0.09028\n",
      "[70]\ttrain-logloss:0.04113\tval-logloss:0.09134\n",
      "[75]\ttrain-logloss:0.03957\tval-logloss:0.09211\n",
      "[80]\ttrain-logloss:0.03864\tval-logloss:0.09227\n",
      "[85]\ttrain-logloss:0.03663\tval-logloss:0.09368\n",
      "[90]\ttrain-logloss:0.03438\tval-logloss:0.09517\n",
      "[95]\ttrain-logloss:0.03325\tval-logloss:0.09597\n",
      "[100]\ttrain-logloss:0.03128\tval-logloss:0.09704\n",
      "[105]\ttrain-logloss:0.03030\tval-logloss:0.09777\n",
      "[110]\ttrain-logloss:0.02925\tval-logloss:0.09841\n",
      "[115]\ttrain-logloss:0.02840\tval-logloss:0.09916\n",
      "[120]\ttrain-logloss:0.02730\tval-logloss:0.09986\n",
      "[125]\ttrain-logloss:0.02596\tval-logloss:0.10068\n",
      "[130]\ttrain-logloss:0.02504\tval-logloss:0.10144\n",
      "[135]\ttrain-logloss:0.02428\tval-logloss:0.10207\n",
      "[140]\ttrain-logloss:0.02356\tval-logloss:0.10315\n",
      "[145]\ttrain-logloss:0.02210\tval-logloss:0.10444\n",
      "[150]\ttrain-logloss:0.02127\tval-logloss:0.10541\n",
      "[155]\ttrain-logloss:0.02044\tval-logloss:0.10642\n",
      "[160]\ttrain-logloss:0.01983\tval-logloss:0.10717\n",
      "[165]\ttrain-logloss:0.01924\tval-logloss:0.10797\n",
      "[170]\ttrain-logloss:0.01875\tval-logloss:0.10867\n",
      "[175]\ttrain-logloss:0.01829\tval-logloss:0.10938\n",
      "[180]\ttrain-logloss:0.01747\tval-logloss:0.11050\n",
      "[185]\ttrain-logloss:0.01684\tval-logloss:0.11136\n",
      "[190]\ttrain-logloss:0.01651\tval-logloss:0.11198\n",
      "[195]\ttrain-logloss:0.01613\tval-logloss:0.11266\n",
      "[199]\ttrain-logloss:0.01582\tval-logloss:0.11327\n",
      "[0]\ttrain-logloss:0.12038\tval-logloss:0.12490\n",
      "[5]\ttrain-logloss:0.07147\tval-logloss:0.08716\n",
      "[10]\ttrain-logloss:0.05398\tval-logloss:0.09673\n",
      "[15]\ttrain-logloss:0.04587\tval-logloss:0.10197\n",
      "[20]\ttrain-logloss:0.03537\tval-logloss:0.10764\n",
      "[25]\ttrain-logloss:0.02868\tval-logloss:0.11475\n",
      "[30]\ttrain-logloss:0.02336\tval-logloss:0.11953\n",
      "[35]\ttrain-logloss:0.01961\tval-logloss:0.12292\n",
      "[40]\ttrain-logloss:0.01658\tval-logloss:0.12625\n"
     ]
    },
    {
     "name": "stdout",
     "output_type": "stream",
     "text": [
      "[45]\ttrain-logloss:0.01450\tval-logloss:0.12951\n",
      "[50]\ttrain-logloss:0.01324\tval-logloss:0.13225\n",
      "[55]\ttrain-logloss:0.01181\tval-logloss:0.13489\n",
      "[60]\ttrain-logloss:0.01087\tval-logloss:0.13692\n",
      "[65]\ttrain-logloss:0.00988\tval-logloss:0.14009\n",
      "[70]\ttrain-logloss:0.00921\tval-logloss:0.14268\n",
      "[75]\ttrain-logloss:0.00862\tval-logloss:0.14462\n",
      "[80]\ttrain-logloss:0.00790\tval-logloss:0.14746\n",
      "[85]\ttrain-logloss:0.00731\tval-logloss:0.14972\n",
      "[90]\ttrain-logloss:0.00681\tval-logloss:0.15219\n",
      "[95]\ttrain-logloss:0.00644\tval-logloss:0.15355\n",
      "[100]\ttrain-logloss:0.00625\tval-logloss:0.15464\n",
      "[105]\ttrain-logloss:0.00589\tval-logloss:0.15621\n",
      "[110]\ttrain-logloss:0.00564\tval-logloss:0.15792\n",
      "[115]\ttrain-logloss:0.00539\tval-logloss:0.15897\n",
      "[120]\ttrain-logloss:0.00518\tval-logloss:0.15959\n",
      "[125]\ttrain-logloss:0.00501\tval-logloss:0.16086\n",
      "[130]\ttrain-logloss:0.00483\tval-logloss:0.16191\n",
      "[135]\ttrain-logloss:0.00469\tval-logloss:0.16343\n",
      "[140]\ttrain-logloss:0.00457\tval-logloss:0.16435\n",
      "[145]\ttrain-logloss:0.00441\tval-logloss:0.16569\n",
      "[150]\ttrain-logloss:0.00430\tval-logloss:0.16637\n",
      "[155]\ttrain-logloss:0.00420\tval-logloss:0.16737\n",
      "[160]\ttrain-logloss:0.00411\tval-logloss:0.16842\n",
      "[165]\ttrain-logloss:0.00399\tval-logloss:0.16951\n",
      "[170]\ttrain-logloss:0.00389\tval-logloss:0.17069\n",
      "[175]\ttrain-logloss:0.00380\tval-logloss:0.17134\n",
      "[180]\ttrain-logloss:0.00371\tval-logloss:0.17271\n",
      "[185]\ttrain-logloss:0.00361\tval-logloss:0.17342\n",
      "[190]\ttrain-logloss:0.00353\tval-logloss:0.17402\n",
      "[195]\ttrain-logloss:0.00346\tval-logloss:0.17512\n",
      "[199]\ttrain-logloss:0.00340\tval-logloss:0.17580\n",
      "[0]\ttrain-logloss:0.33609\tval-logloss:0.39280\n",
      "[5]\ttrain-logloss:5.14389\tval-logloss:5.17468\n",
      "[10]\ttrain-logloss:5.14389\tval-logloss:5.17468\n",
      "[15]\ttrain-logloss:5.14389\tval-logloss:5.17468\n",
      "[20]\ttrain-logloss:5.14389\tval-logloss:5.17468\n",
      "[25]\ttrain-logloss:5.14389\tval-logloss:5.17468\n",
      "[30]\ttrain-logloss:5.14389\tval-logloss:5.17468\n",
      "[35]\ttrain-logloss:5.14389\tval-logloss:5.17468\n",
      "[40]\ttrain-logloss:5.14389\tval-logloss:5.17468\n",
      "[45]\ttrain-logloss:5.14389\tval-logloss:5.17468\n",
      "[50]\ttrain-logloss:5.14389\tval-logloss:5.17468\n",
      "[55]\ttrain-logloss:5.14389\tval-logloss:5.17468\n",
      "[60]\ttrain-logloss:5.14389\tval-logloss:5.17468\n",
      "[65]\ttrain-logloss:5.14389\tval-logloss:5.17468\n",
      "[70]\ttrain-logloss:5.14389\tval-logloss:5.17468\n",
      "[75]\ttrain-logloss:5.14389\tval-logloss:5.17468\n",
      "[80]\ttrain-logloss:5.14389\tval-logloss:5.17468\n",
      "[85]\ttrain-logloss:5.14389\tval-logloss:5.17468\n",
      "[90]\ttrain-logloss:5.14389\tval-logloss:5.17468\n",
      "[95]\ttrain-logloss:5.14389\tval-logloss:5.17468\n",
      "[100]\ttrain-logloss:5.14389\tval-logloss:5.17468\n",
      "[105]\ttrain-logloss:5.14389\tval-logloss:5.17468\n",
      "[110]\ttrain-logloss:5.14389\tval-logloss:5.17468\n",
      "[115]\ttrain-logloss:5.14389\tval-logloss:5.17468\n",
      "[120]\ttrain-logloss:5.14389\tval-logloss:5.17468\n",
      "[125]\ttrain-logloss:5.14389\tval-logloss:5.17468\n",
      "[130]\ttrain-logloss:5.14389\tval-logloss:5.17468\n",
      "[135]\ttrain-logloss:5.14389\tval-logloss:5.17468\n",
      "[140]\ttrain-logloss:5.14389\tval-logloss:5.17468\n",
      "[145]\ttrain-logloss:5.14389\tval-logloss:5.17468\n",
      "[150]\ttrain-logloss:5.14389\tval-logloss:5.17468\n",
      "[155]\ttrain-logloss:5.14389\tval-logloss:5.17468\n",
      "[160]\ttrain-logloss:5.14389\tval-logloss:5.17468\n",
      "[165]\ttrain-logloss:5.14389\tval-logloss:5.17468\n",
      "[170]\ttrain-logloss:5.14389\tval-logloss:5.17468\n",
      "[175]\ttrain-logloss:5.14389\tval-logloss:5.17468\n",
      "[180]\ttrain-logloss:5.14389\tval-logloss:5.17468\n",
      "[185]\ttrain-logloss:5.14389\tval-logloss:5.17468\n",
      "[190]\ttrain-logloss:5.14389\tval-logloss:5.17468\n",
      "[195]\ttrain-logloss:5.14389\tval-logloss:5.17468\n",
      "[199]\ttrain-logloss:5.14389\tval-logloss:5.17468\n",
      "[0]\ttrain-logloss:0.31590\tval-logloss:0.31486\n",
      "[5]\ttrain-logloss:0.29506\tval-logloss:0.29498\n",
      "[10]\ttrain-logloss:0.27749\tval-logloss:0.27831\n",
      "[15]\ttrain-logloss:0.26226\tval-logloss:0.26391\n",
      "[20]\ttrain-logloss:0.24878\tval-logloss:0.25125\n",
      "[25]\ttrain-logloss:0.23668\tval-logloss:0.23994\n",
      "[30]\ttrain-logloss:0.22572\tval-logloss:0.22969\n",
      "[35]\ttrain-logloss:0.21569\tval-logloss:0.22034\n",
      "[40]\ttrain-logloss:0.20647\tval-logloss:0.21178\n",
      "[45]\ttrain-logloss:0.19794\tval-logloss:0.20391\n",
      "[50]\ttrain-logloss:0.19006\tval-logloss:0.19666\n",
      "[55]\ttrain-logloss:0.18275\tval-logloss:0.18995\n",
      "[60]\ttrain-logloss:0.17592\tval-logloss:0.18370\n",
      "[65]\ttrain-logloss:0.16951\tval-logloss:0.17789\n",
      "[70]\ttrain-logloss:0.16348\tval-logloss:0.17249\n",
      "[75]\ttrain-logloss:0.15783\tval-logloss:0.16744\n",
      "[80]\ttrain-logloss:0.15252\tval-logloss:0.16273\n",
      "[85]\ttrain-logloss:0.14753\tval-logloss:0.15835\n",
      "[90]\ttrain-logloss:0.14282\tval-logloss:0.15426\n",
      "[95]\ttrain-logloss:0.13835\tval-logloss:0.15039\n",
      "[100]\ttrain-logloss:0.13415\tval-logloss:0.14678\n",
      "[105]\ttrain-logloss:0.13019\tval-logloss:0.14340\n",
      "[110]\ttrain-logloss:0.12642\tval-logloss:0.14019\n",
      "[115]\ttrain-logloss:0.12284\tval-logloss:0.13719\n",
      "[120]\ttrain-logloss:0.11945\tval-logloss:0.13436\n",
      "[125]\ttrain-logloss:0.11626\tval-logloss:0.13170\n",
      "[130]\ttrain-logloss:0.11325\tval-logloss:0.12920\n",
      "[135]\ttrain-logloss:0.11037\tval-logloss:0.12683\n",
      "[140]\ttrain-logloss:0.10761\tval-logloss:0.12458\n",
      "[145]\ttrain-logloss:0.10499\tval-logloss:0.12245\n",
      "[150]\ttrain-logloss:0.10251\tval-logloss:0.12047\n",
      "[155]\ttrain-logloss:0.10014\tval-logloss:0.11858\n",
      "[160]\ttrain-logloss:0.09789\tval-logloss:0.11681\n",
      "[165]\ttrain-logloss:0.09575\tval-logloss:0.11515\n",
      "[170]\ttrain-logloss:0.09368\tval-logloss:0.11351\n",
      "[175]\ttrain-logloss:0.09174\tval-logloss:0.11200\n",
      "[180]\ttrain-logloss:0.08990\tval-logloss:0.11057\n",
      "[185]\ttrain-logloss:0.08814\tval-logloss:0.10920\n",
      "[190]\ttrain-logloss:0.08647\tval-logloss:0.10791\n",
      "[195]\ttrain-logloss:0.08486\tval-logloss:0.10669\n",
      "[199]\ttrain-logloss:0.08362\tval-logloss:0.10577\n",
      "[0]\ttrain-logloss:0.30662\tval-logloss:0.30599\n",
      "[5]\ttrain-logloss:0.25568\tval-logloss:0.25771\n",
      "[10]\ttrain-logloss:0.22063\tval-logloss:0.22491\n",
      "[15]\ttrain-logloss:0.19388\tval-logloss:0.20014\n",
      "[20]\ttrain-logloss:0.17260\tval-logloss:0.18062\n",
      "[25]\ttrain-logloss:0.15505\tval-logloss:0.16488\n",
      "[30]\ttrain-logloss:0.14048\tval-logloss:0.15216\n",
      "[35]\ttrain-logloss:0.12822\tval-logloss:0.14161\n",
      "[40]\ttrain-logloss:0.11783\tval-logloss:0.13288\n",
      "[45]\ttrain-logloss:0.10897\tval-logloss:0.12554\n",
      "[50]\ttrain-logloss:0.10127\tval-logloss:0.11933\n",
      "[55]\ttrain-logloss:0.09471\tval-logloss:0.11418\n",
      "[60]\ttrain-logloss:0.08901\tval-logloss:0.10972\n",
      "[65]\ttrain-logloss:0.08399\tval-logloss:0.10594\n",
      "[70]\ttrain-logloss:0.07968\tval-logloss:0.10281\n",
      "[75]\ttrain-logloss:0.07596\tval-logloss:0.10019\n",
      "[80]\ttrain-logloss:0.07275\tval-logloss:0.09785\n",
      "[85]\ttrain-logloss:0.06987\tval-logloss:0.09589\n",
      "[90]\ttrain-logloss:0.06734\tval-logloss:0.09422\n",
      "[95]\ttrain-logloss:0.06508\tval-logloss:0.09283\n",
      "[100]\ttrain-logloss:0.06309\tval-logloss:0.09159\n",
      "[105]\ttrain-logloss:0.06139\tval-logloss:0.09058\n",
      "[110]\ttrain-logloss:0.05994\tval-logloss:0.08968\n",
      "[115]\ttrain-logloss:0.05858\tval-logloss:0.08896\n",
      "[120]\ttrain-logloss:0.05738\tval-logloss:0.08832\n",
      "[125]\ttrain-logloss:0.05636\tval-logloss:0.08783\n",
      "[130]\ttrain-logloss:0.05539\tval-logloss:0.08735\n",
      "[135]\ttrain-logloss:0.05456\tval-logloss:0.08697\n",
      "[140]\ttrain-logloss:0.05380\tval-logloss:0.08670\n",
      "[145]\ttrain-logloss:0.05310\tval-logloss:0.08646\n",
      "[150]\ttrain-logloss:0.05237\tval-logloss:0.08627\n",
      "[155]\ttrain-logloss:0.05185\tval-logloss:0.08608\n",
      "[160]\ttrain-logloss:0.05129\tval-logloss:0.08591\n",
      "[165]\ttrain-logloss:0.05076\tval-logloss:0.08584\n",
      "[170]\ttrain-logloss:0.05039\tval-logloss:0.08573\n",
      "[175]\ttrain-logloss:0.04999\tval-logloss:0.08572\n",
      "[180]\ttrain-logloss:0.04953\tval-logloss:0.08567\n",
      "[185]\ttrain-logloss:0.04915\tval-logloss:0.08562\n",
      "[190]\ttrain-logloss:0.04887\tval-logloss:0.08562\n",
      "[195]\ttrain-logloss:0.04866\tval-logloss:0.08553\n",
      "[199]\ttrain-logloss:0.04852\tval-logloss:0.08549\n",
      "[0]\ttrain-logloss:0.27579\tval-logloss:0.27655\n",
      "[5]\ttrain-logloss:0.17355\tval-logloss:0.18146\n",
      "[10]\ttrain-logloss:0.12506\tval-logloss:0.13884\n",
      "[15]\ttrain-logloss:0.09701\tval-logloss:0.11607\n",
      "[20]\ttrain-logloss:0.07998\tval-logloss:0.10312\n",
      "[25]\ttrain-logloss:0.06930\tval-logloss:0.09564\n",
      "[30]\ttrain-logloss:0.06221\tval-logloss:0.09118\n",
      "[35]\ttrain-logloss:0.05716\tval-logloss:0.08871\n",
      "[40]\ttrain-logloss:0.05368\tval-logloss:0.08739\n",
      "[45]\ttrain-logloss:0.05124\tval-logloss:0.08670\n",
      "[50]\ttrain-logloss:0.04995\tval-logloss:0.08623\n",
      "[55]\ttrain-logloss:0.04880\tval-logloss:0.08594\n",
      "[60]\ttrain-logloss:0.04804\tval-logloss:0.08582\n",
      "[65]\ttrain-logloss:0.04732\tval-logloss:0.08573\n",
      "[70]\ttrain-logloss:0.04676\tval-logloss:0.08590\n",
      "[75]\ttrain-logloss:0.04647\tval-logloss:0.08593\n",
      "[80]\ttrain-logloss:0.04533\tval-logloss:0.08625\n",
      "[85]\ttrain-logloss:0.04393\tval-logloss:0.08645\n"
     ]
    },
    {
     "name": "stdout",
     "output_type": "stream",
     "text": [
      "[90]\ttrain-logloss:0.04268\tval-logloss:0.08674\n",
      "[95]\ttrain-logloss:0.04170\tval-logloss:0.08707\n",
      "[100]\ttrain-logloss:0.04051\tval-logloss:0.08740\n",
      "[105]\ttrain-logloss:0.03943\tval-logloss:0.08773\n",
      "[110]\ttrain-logloss:0.03733\tval-logloss:0.08814\n",
      "[115]\ttrain-logloss:0.03540\tval-logloss:0.08887\n",
      "[120]\ttrain-logloss:0.03471\tval-logloss:0.08923\n",
      "[125]\ttrain-logloss:0.03455\tval-logloss:0.08933\n",
      "[130]\ttrain-logloss:0.03389\tval-logloss:0.08969\n",
      "[135]\ttrain-logloss:0.03268\tval-logloss:0.09040\n",
      "[140]\ttrain-logloss:0.03126\tval-logloss:0.09087\n",
      "[145]\ttrain-logloss:0.03046\tval-logloss:0.09149\n",
      "[150]\ttrain-logloss:0.02997\tval-logloss:0.09178\n",
      "[155]\ttrain-logloss:0.02974\tval-logloss:0.09189\n",
      "[160]\ttrain-logloss:0.02920\tval-logloss:0.09222\n",
      "[165]\ttrain-logloss:0.02859\tval-logloss:0.09259\n",
      "[170]\ttrain-logloss:0.02792\tval-logloss:0.09295\n",
      "[175]\ttrain-logloss:0.02721\tval-logloss:0.09329\n",
      "[180]\ttrain-logloss:0.02645\tval-logloss:0.09378\n",
      "[185]\ttrain-logloss:0.02586\tval-logloss:0.09405\n",
      "[190]\ttrain-logloss:0.02544\tval-logloss:0.09440\n",
      "[195]\ttrain-logloss:0.02489\tval-logloss:0.09481\n",
      "[199]\ttrain-logloss:0.02463\tval-logloss:0.09512\n",
      "[0]\ttrain-logloss:0.20466\tval-logloss:0.20915\n",
      "[5]\ttrain-logloss:0.08630\tval-logloss:0.10765\n",
      "[10]\ttrain-logloss:0.05987\tval-logloss:0.09001\n",
      "[15]\ttrain-logloss:0.05083\tval-logloss:0.08746\n",
      "[20]\ttrain-logloss:0.04687\tval-logloss:0.08731\n",
      "[25]\ttrain-logloss:0.04440\tval-logloss:0.08797\n",
      "[30]\ttrain-logloss:0.04173\tval-logloss:0.08903\n",
      "[35]\ttrain-logloss:0.03721\tval-logloss:0.09016\n",
      "[40]\ttrain-logloss:0.03349\tval-logloss:0.09179\n",
      "[45]\ttrain-logloss:0.02825\tval-logloss:0.09374\n",
      "[50]\ttrain-logloss:0.02606\tval-logloss:0.09515\n",
      "[55]\ttrain-logloss:0.02418\tval-logloss:0.09641\n",
      "[60]\ttrain-logloss:0.02271\tval-logloss:0.09762\n",
      "[65]\ttrain-logloss:0.02140\tval-logloss:0.09873\n",
      "[70]\ttrain-logloss:0.01948\tval-logloss:0.10057\n",
      "[75]\ttrain-logloss:0.01857\tval-logloss:0.10174\n",
      "[80]\ttrain-logloss:0.01738\tval-logloss:0.10292\n",
      "[85]\ttrain-logloss:0.01643\tval-logloss:0.10419\n",
      "[90]\ttrain-logloss:0.01529\tval-logloss:0.10584\n",
      "[95]\ttrain-logloss:0.01474\tval-logloss:0.10689\n",
      "[100]\ttrain-logloss:0.01400\tval-logloss:0.10812\n",
      "[105]\ttrain-logloss:0.01323\tval-logloss:0.10919\n",
      "[110]\ttrain-logloss:0.01259\tval-logloss:0.11063\n",
      "[115]\ttrain-logloss:0.01201\tval-logloss:0.11176\n",
      "[120]\ttrain-logloss:0.01160\tval-logloss:0.11273\n",
      "[125]\ttrain-logloss:0.01114\tval-logloss:0.11359\n",
      "[130]\ttrain-logloss:0.01078\tval-logloss:0.11462\n",
      "[135]\ttrain-logloss:0.01029\tval-logloss:0.11606\n",
      "[140]\ttrain-logloss:0.00986\tval-logloss:0.11729\n",
      "[145]\ttrain-logloss:0.00949\tval-logloss:0.11846\n",
      "[150]\ttrain-logloss:0.00922\tval-logloss:0.11916\n",
      "[155]\ttrain-logloss:0.00895\tval-logloss:0.11974\n",
      "[160]\ttrain-logloss:0.00871\tval-logloss:0.12066\n",
      "[165]\ttrain-logloss:0.00851\tval-logloss:0.12135\n",
      "[170]\ttrain-logloss:0.00842\tval-logloss:0.12177\n",
      "[175]\ttrain-logloss:0.00828\tval-logloss:0.12227\n",
      "[180]\ttrain-logloss:0.00812\tval-logloss:0.12284\n",
      "[185]\ttrain-logloss:0.00789\tval-logloss:0.12403\n",
      "[190]\ttrain-logloss:0.00773\tval-logloss:0.12490\n",
      "[195]\ttrain-logloss:0.00760\tval-logloss:0.12540\n",
      "[199]\ttrain-logloss:0.00750\tval-logloss:0.12581\n",
      "[0]\ttrain-logloss:0.11228\tval-logloss:0.12784\n",
      "[5]\ttrain-logloss:0.04626\tval-logloss:0.09838\n",
      "[10]\ttrain-logloss:0.03166\tval-logloss:0.10769\n",
      "[15]\ttrain-logloss:0.02037\tval-logloss:0.11881\n",
      "[20]\ttrain-logloss:0.01529\tval-logloss:0.12387\n",
      "[25]\ttrain-logloss:0.01138\tval-logloss:0.13114\n",
      "[30]\ttrain-logloss:0.00941\tval-logloss:0.13547\n",
      "[35]\ttrain-logloss:0.00797\tval-logloss:0.13981\n",
      "[40]\ttrain-logloss:0.00690\tval-logloss:0.14342\n",
      "[45]\ttrain-logloss:0.00631\tval-logloss:0.14616\n",
      "[50]\ttrain-logloss:0.00587\tval-logloss:0.14797\n",
      "[55]\ttrain-logloss:0.00540\tval-logloss:0.15017\n",
      "[60]\ttrain-logloss:0.00500\tval-logloss:0.15276\n",
      "[65]\ttrain-logloss:0.00472\tval-logloss:0.15439\n",
      "[70]\ttrain-logloss:0.00453\tval-logloss:0.15520\n",
      "[75]\ttrain-logloss:0.00432\tval-logloss:0.15718\n",
      "[80]\ttrain-logloss:0.00412\tval-logloss:0.15869\n",
      "[85]\ttrain-logloss:0.00396\tval-logloss:0.16046\n",
      "[90]\ttrain-logloss:0.00382\tval-logloss:0.16170\n",
      "[95]\ttrain-logloss:0.00371\tval-logloss:0.16294\n",
      "[100]\ttrain-logloss:0.00359\tval-logloss:0.16428\n",
      "[105]\ttrain-logloss:0.00349\tval-logloss:0.16536\n",
      "[110]\ttrain-logloss:0.00339\tval-logloss:0.16652\n",
      "[115]\ttrain-logloss:0.00330\tval-logloss:0.16761\n",
      "[120]\ttrain-logloss:0.00322\tval-logloss:0.16841\n",
      "[125]\ttrain-logloss:0.00314\tval-logloss:0.16915\n",
      "[130]\ttrain-logloss:0.00307\tval-logloss:0.16981\n",
      "[135]\ttrain-logloss:0.00301\tval-logloss:0.17085\n",
      "[140]\ttrain-logloss:0.00296\tval-logloss:0.17196\n",
      "[145]\ttrain-logloss:0.00290\tval-logloss:0.17323\n",
      "[150]\ttrain-logloss:0.00285\tval-logloss:0.17402\n",
      "[155]\ttrain-logloss:0.00281\tval-logloss:0.17468\n",
      "[160]\ttrain-logloss:0.00276\tval-logloss:0.17535\n",
      "[165]\ttrain-logloss:0.00272\tval-logloss:0.17631\n",
      "[170]\ttrain-logloss:0.00267\tval-logloss:0.17687\n",
      "[175]\ttrain-logloss:0.00263\tval-logloss:0.17743\n",
      "[180]\ttrain-logloss:0.00260\tval-logloss:0.17804\n",
      "[185]\ttrain-logloss:0.00257\tval-logloss:0.17866\n",
      "[190]\ttrain-logloss:0.00254\tval-logloss:0.17923\n",
      "[195]\ttrain-logloss:0.00251\tval-logloss:0.18008\n",
      "[199]\ttrain-logloss:0.00249\tval-logloss:0.18062\n",
      "[0]\ttrain-logloss:0.38077\tval-logloss:0.56049\n",
      "[5]\ttrain-logloss:5.84958\tval-logloss:5.87143\n",
      "[10]\ttrain-logloss:5.84958\tval-logloss:5.87143\n",
      "[15]\ttrain-logloss:5.84958\tval-logloss:5.87143\n",
      "[20]\ttrain-logloss:5.84958\tval-logloss:5.87143\n",
      "[25]\ttrain-logloss:5.84958\tval-logloss:5.87143\n",
      "[30]\ttrain-logloss:5.84958\tval-logloss:5.87143\n",
      "[35]\ttrain-logloss:5.84958\tval-logloss:5.87143\n",
      "[40]\ttrain-logloss:5.84958\tval-logloss:5.87143\n",
      "[45]\ttrain-logloss:5.84958\tval-logloss:5.87143\n",
      "[50]\ttrain-logloss:5.84958\tval-logloss:5.87143\n",
      "[55]\ttrain-logloss:5.84958\tval-logloss:5.87143\n",
      "[60]\ttrain-logloss:5.84958\tval-logloss:5.87143\n",
      "[65]\ttrain-logloss:5.84958\tval-logloss:5.87143\n",
      "[70]\ttrain-logloss:5.84958\tval-logloss:5.87143\n",
      "[75]\ttrain-logloss:5.84958\tval-logloss:5.87143\n",
      "[80]\ttrain-logloss:5.84958\tval-logloss:5.87143\n",
      "[85]\ttrain-logloss:5.84958\tval-logloss:5.87143\n",
      "[90]\ttrain-logloss:5.84958\tval-logloss:5.87143\n",
      "[95]\ttrain-logloss:5.84958\tval-logloss:5.87143\n",
      "[100]\ttrain-logloss:5.84958\tval-logloss:5.87143\n",
      "[105]\ttrain-logloss:5.84958\tval-logloss:5.87143\n",
      "[110]\ttrain-logloss:5.84958\tval-logloss:5.87143\n",
      "[115]\ttrain-logloss:5.84958\tval-logloss:5.87143\n",
      "[120]\ttrain-logloss:5.84958\tval-logloss:5.87143\n",
      "[125]\ttrain-logloss:5.84958\tval-logloss:5.87143\n",
      "[130]\ttrain-logloss:5.84958\tval-logloss:5.87143\n",
      "[135]\ttrain-logloss:5.84958\tval-logloss:5.87143\n",
      "[140]\ttrain-logloss:5.84958\tval-logloss:5.87143\n",
      "[145]\ttrain-logloss:5.84958\tval-logloss:5.87143\n",
      "[150]\ttrain-logloss:5.84958\tval-logloss:5.87143\n",
      "[155]\ttrain-logloss:5.84958\tval-logloss:5.87143\n",
      "[160]\ttrain-logloss:5.84958\tval-logloss:5.87143\n",
      "[165]\ttrain-logloss:5.84958\tval-logloss:5.87143\n",
      "[170]\ttrain-logloss:5.84958\tval-logloss:5.87143\n",
      "[175]\ttrain-logloss:5.84958\tval-logloss:5.87143\n",
      "[180]\ttrain-logloss:5.84958\tval-logloss:5.87143\n",
      "[185]\ttrain-logloss:5.84958\tval-logloss:5.87143\n",
      "[190]\ttrain-logloss:5.84958\tval-logloss:5.87143\n",
      "[195]\ttrain-logloss:5.84958\tval-logloss:5.87143\n",
      "[199]\ttrain-logloss:5.84958\tval-logloss:5.87143\n",
      "[0]\ttrain-logloss:0.31584\tval-logloss:0.31486\n",
      "[5]\ttrain-logloss:0.29471\tval-logloss:0.29498\n",
      "[10]\ttrain-logloss:0.27686\tval-logloss:0.27836\n",
      "[15]\ttrain-logloss:0.26135\tval-logloss:0.26397\n",
      "[20]\ttrain-logloss:0.24758\tval-logloss:0.25131\n",
      "[25]\ttrain-logloss:0.23520\tval-logloss:0.24005\n",
      "[30]\ttrain-logloss:0.22394\tval-logloss:0.22987\n",
      "[35]\ttrain-logloss:0.21363\tval-logloss:0.22056\n",
      "[40]\ttrain-logloss:0.20412\tval-logloss:0.21207\n",
      "[45]\ttrain-logloss:0.19531\tval-logloss:0.20424\n",
      "[50]\ttrain-logloss:0.18713\tval-logloss:0.19700\n",
      "[55]\ttrain-logloss:0.17950\tval-logloss:0.19032\n",
      "[60]\ttrain-logloss:0.17237\tval-logloss:0.18410\n",
      "[65]\ttrain-logloss:0.16568\tval-logloss:0.17833\n",
      "[70]\ttrain-logloss:0.15941\tval-logloss:0.17295\n",
      "[75]\ttrain-logloss:0.15344\tval-logloss:0.16790\n",
      "[80]\ttrain-logloss:0.14785\tval-logloss:0.16320\n",
      "[85]\ttrain-logloss:0.14259\tval-logloss:0.15883\n",
      "[90]\ttrain-logloss:0.13762\tval-logloss:0.15470\n",
      "[95]\ttrain-logloss:0.13295\tval-logloss:0.15083\n",
      "[100]\ttrain-logloss:0.12854\tval-logloss:0.14721\n",
      "[105]\ttrain-logloss:0.12433\tval-logloss:0.14384\n",
      "[110]\ttrain-logloss:0.12033\tval-logloss:0.14070\n",
      "[115]\ttrain-logloss:0.11655\tval-logloss:0.13772\n",
      "[120]\ttrain-logloss:0.11296\tval-logloss:0.13493\n",
      "[125]\ttrain-logloss:0.10955\tval-logloss:0.13233\n",
      "[130]\ttrain-logloss:0.10631\tval-logloss:0.12986\n"
     ]
    },
    {
     "name": "stdout",
     "output_type": "stream",
     "text": [
      "[135]\ttrain-logloss:0.10323\tval-logloss:0.12757\n",
      "[140]\ttrain-logloss:0.10031\tval-logloss:0.12541\n",
      "[145]\ttrain-logloss:0.09753\tval-logloss:0.12336\n",
      "[150]\ttrain-logloss:0.09488\tval-logloss:0.12143\n",
      "[155]\ttrain-logloss:0.09233\tval-logloss:0.11963\n",
      "[160]\ttrain-logloss:0.08990\tval-logloss:0.11794\n",
      "[165]\ttrain-logloss:0.08759\tval-logloss:0.11632\n",
      "[170]\ttrain-logloss:0.08538\tval-logloss:0.11479\n",
      "[175]\ttrain-logloss:0.08326\tval-logloss:0.11334\n",
      "[180]\ttrain-logloss:0.08121\tval-logloss:0.11195\n",
      "[185]\ttrain-logloss:0.07925\tval-logloss:0.11066\n",
      "[190]\ttrain-logloss:0.07738\tval-logloss:0.10936\n",
      "[195]\ttrain-logloss:0.07560\tval-logloss:0.10820\n",
      "[199]\ttrain-logloss:0.07424\tval-logloss:0.10733\n",
      "[0]\ttrain-logloss:0.30645\tval-logloss:0.30599\n",
      "[5]\ttrain-logloss:0.25468\tval-logloss:0.25775\n",
      "[10]\ttrain-logloss:0.21876\tval-logloss:0.22516\n",
      "[15]\ttrain-logloss:0.19113\tval-logloss:0.20047\n",
      "[20]\ttrain-logloss:0.16890\tval-logloss:0.18110\n",
      "[25]\ttrain-logloss:0.15058\tval-logloss:0.16547\n",
      "[30]\ttrain-logloss:0.13523\tval-logloss:0.15272\n",
      "[35]\ttrain-logloss:0.12228\tval-logloss:0.14226\n",
      "[40]\ttrain-logloss:0.11124\tval-logloss:0.13371\n",
      "[45]\ttrain-logloss:0.10171\tval-logloss:0.12650\n",
      "[50]\ttrain-logloss:0.09353\tval-logloss:0.12050\n",
      "[55]\ttrain-logloss:0.08644\tval-logloss:0.11550\n",
      "[60]\ttrain-logloss:0.08025\tval-logloss:0.11124\n",
      "[65]\ttrain-logloss:0.07475\tval-logloss:0.10762\n",
      "[70]\ttrain-logloss:0.06992\tval-logloss:0.10455\n",
      "[75]\ttrain-logloss:0.06570\tval-logloss:0.10206\n",
      "[80]\ttrain-logloss:0.06193\tval-logloss:0.10003\n",
      "[85]\ttrain-logloss:0.05869\tval-logloss:0.09826\n",
      "[90]\ttrain-logloss:0.05588\tval-logloss:0.09685\n",
      "[95]\ttrain-logloss:0.05334\tval-logloss:0.09572\n",
      "[100]\ttrain-logloss:0.05098\tval-logloss:0.09469\n",
      "[105]\ttrain-logloss:0.04880\tval-logloss:0.09379\n",
      "[110]\ttrain-logloss:0.04683\tval-logloss:0.09309\n",
      "[115]\ttrain-logloss:0.04509\tval-logloss:0.09265\n",
      "[120]\ttrain-logloss:0.04356\tval-logloss:0.09225\n",
      "[125]\ttrain-logloss:0.04207\tval-logloss:0.09198\n",
      "[130]\ttrain-logloss:0.04073\tval-logloss:0.09179\n",
      "[135]\ttrain-logloss:0.03945\tval-logloss:0.09163\n",
      "[140]\ttrain-logloss:0.03832\tval-logloss:0.09148\n",
      "[145]\ttrain-logloss:0.03743\tval-logloss:0.09138\n",
      "[150]\ttrain-logloss:0.03662\tval-logloss:0.09130\n",
      "[155]\ttrain-logloss:0.03592\tval-logloss:0.09122\n",
      "[160]\ttrain-logloss:0.03535\tval-logloss:0.09106\n",
      "[165]\ttrain-logloss:0.03475\tval-logloss:0.09102\n",
      "[170]\ttrain-logloss:0.03416\tval-logloss:0.09102\n",
      "[175]\ttrain-logloss:0.03373\tval-logloss:0.09098\n",
      "[180]\ttrain-logloss:0.03328\tval-logloss:0.09103\n",
      "[185]\ttrain-logloss:0.03268\tval-logloss:0.09101\n",
      "[190]\ttrain-logloss:0.03233\tval-logloss:0.09107\n",
      "[195]\ttrain-logloss:0.03206\tval-logloss:0.09105\n",
      "[199]\ttrain-logloss:0.03189\tval-logloss:0.09104\n",
      "[0]\ttrain-logloss:0.27522\tval-logloss:0.27656\n",
      "[5]\ttrain-logloss:0.17019\tval-logloss:0.18199\n",
      "[10]\ttrain-logloss:0.11902\tval-logloss:0.13959\n",
      "[15]\ttrain-logloss:0.08911\tval-logloss:0.11745\n",
      "[20]\ttrain-logloss:0.07013\tval-logloss:0.10492\n",
      "[25]\ttrain-logloss:0.05775\tval-logloss:0.09805\n",
      "[30]\ttrain-logloss:0.04930\tval-logloss:0.09425\n",
      "[35]\ttrain-logloss:0.04346\tval-logloss:0.09242\n",
      "[40]\ttrain-logloss:0.03925\tval-logloss:0.09149\n",
      "[45]\ttrain-logloss:0.03639\tval-logloss:0.09113\n",
      "[50]\ttrain-logloss:0.03407\tval-logloss:0.09077\n",
      "[55]\ttrain-logloss:0.03235\tval-logloss:0.09104\n",
      "[60]\ttrain-logloss:0.03121\tval-logloss:0.09116\n",
      "[65]\ttrain-logloss:0.03058\tval-logloss:0.09114\n",
      "[70]\ttrain-logloss:0.02976\tval-logloss:0.09140\n",
      "[75]\ttrain-logloss:0.02935\tval-logloss:0.09161\n",
      "[80]\ttrain-logloss:0.02871\tval-logloss:0.09183\n",
      "[85]\ttrain-logloss:0.02796\tval-logloss:0.09235\n",
      "[90]\ttrain-logloss:0.02737\tval-logloss:0.09273\n",
      "[95]\ttrain-logloss:0.02667\tval-logloss:0.09307\n",
      "[100]\ttrain-logloss:0.02605\tval-logloss:0.09353\n",
      "[105]\ttrain-logloss:0.02534\tval-logloss:0.09390\n",
      "[110]\ttrain-logloss:0.02440\tval-logloss:0.09445\n",
      "[115]\ttrain-logloss:0.02364\tval-logloss:0.09508\n",
      "[120]\ttrain-logloss:0.02311\tval-logloss:0.09560\n",
      "[125]\ttrain-logloss:0.02257\tval-logloss:0.09602\n",
      "[130]\ttrain-logloss:0.02195\tval-logloss:0.09660\n",
      "[135]\ttrain-logloss:0.02094\tval-logloss:0.09742\n",
      "[140]\ttrain-logloss:0.02021\tval-logloss:0.09810\n",
      "[145]\ttrain-logloss:0.01950\tval-logloss:0.09891\n",
      "[150]\ttrain-logloss:0.01867\tval-logloss:0.09975\n",
      "[155]\ttrain-logloss:0.01803\tval-logloss:0.10046\n",
      "[160]\ttrain-logloss:0.01776\tval-logloss:0.10083\n",
      "[165]\ttrain-logloss:0.01741\tval-logloss:0.10119\n",
      "[170]\ttrain-logloss:0.01713\tval-logloss:0.10153\n",
      "[175]\ttrain-logloss:0.01680\tval-logloss:0.10193\n",
      "[180]\ttrain-logloss:0.01623\tval-logloss:0.10254\n",
      "[185]\ttrain-logloss:0.01588\tval-logloss:0.10305\n",
      "[190]\ttrain-logloss:0.01557\tval-logloss:0.10350\n",
      "[195]\ttrain-logloss:0.01515\tval-logloss:0.10403\n",
      "[199]\ttrain-logloss:0.01475\tval-logloss:0.10457\n",
      "[0]\ttrain-logloss:0.20303\tval-logloss:0.20932\n",
      "[5]\ttrain-logloss:0.07769\tval-logloss:0.10984\n",
      "[10]\ttrain-logloss:0.04602\tval-logloss:0.09439\n",
      "[15]\ttrain-logloss:0.03555\tval-logloss:0.09206\n",
      "[20]\ttrain-logloss:0.02998\tval-logloss:0.09326\n",
      "[25]\ttrain-logloss:0.02785\tval-logloss:0.09386\n",
      "[30]\ttrain-logloss:0.02553\tval-logloss:0.09526\n",
      "[35]\ttrain-logloss:0.02322\tval-logloss:0.09692\n",
      "[40]\ttrain-logloss:0.02010\tval-logloss:0.10002\n",
      "[45]\ttrain-logloss:0.01821\tval-logloss:0.10179\n",
      "[50]\ttrain-logloss:0.01703\tval-logloss:0.10318\n",
      "[55]\ttrain-logloss:0.01557\tval-logloss:0.10488\n",
      "[60]\ttrain-logloss:0.01454\tval-logloss:0.10663\n",
      "[65]\ttrain-logloss:0.01367\tval-logloss:0.10817\n",
      "[70]\ttrain-logloss:0.01300\tval-logloss:0.10954\n",
      "[75]\ttrain-logloss:0.01223\tval-logloss:0.11100\n",
      "[80]\ttrain-logloss:0.01145\tval-logloss:0.11256\n",
      "[85]\ttrain-logloss:0.01071\tval-logloss:0.11383\n",
      "[90]\ttrain-logloss:0.01009\tval-logloss:0.11526\n",
      "[95]\ttrain-logloss:0.00954\tval-logloss:0.11646\n",
      "[100]\ttrain-logloss:0.00915\tval-logloss:0.11782\n",
      "[105]\ttrain-logloss:0.00890\tval-logloss:0.11880\n",
      "[110]\ttrain-logloss:0.00864\tval-logloss:0.11969\n",
      "[115]\ttrain-logloss:0.00834\tval-logloss:0.12088\n",
      "[120]\ttrain-logloss:0.00797\tval-logloss:0.12210\n",
      "[125]\ttrain-logloss:0.00772\tval-logloss:0.12296\n",
      "[130]\ttrain-logloss:0.00747\tval-logloss:0.12391\n",
      "[135]\ttrain-logloss:0.00730\tval-logloss:0.12454\n",
      "[140]\ttrain-logloss:0.00706\tval-logloss:0.12568\n",
      "[145]\ttrain-logloss:0.00680\tval-logloss:0.12667\n",
      "[150]\ttrain-logloss:0.00666\tval-logloss:0.12743\n",
      "[155]\ttrain-logloss:0.00648\tval-logloss:0.12840\n",
      "[160]\ttrain-logloss:0.00627\tval-logloss:0.12953\n",
      "[165]\ttrain-logloss:0.00610\tval-logloss:0.13034\n",
      "[170]\ttrain-logloss:0.00595\tval-logloss:0.13139\n",
      "[175]\ttrain-logloss:0.00579\tval-logloss:0.13233\n",
      "[180]\ttrain-logloss:0.00569\tval-logloss:0.13312\n",
      "[185]\ttrain-logloss:0.00557\tval-logloss:0.13377\n",
      "[190]\ttrain-logloss:0.00546\tval-logloss:0.13441\n",
      "[195]\ttrain-logloss:0.00536\tval-logloss:0.13494\n",
      "[199]\ttrain-logloss:0.00528\tval-logloss:0.13551\n",
      "[0]\ttrain-logloss:0.10810\tval-logloss:0.12966\n",
      "[5]\ttrain-logloss:0.03040\tval-logloss:0.10960\n",
      "[10]\ttrain-logloss:0.01816\tval-logloss:0.11919\n",
      "[15]\ttrain-logloss:0.01253\tval-logloss:0.12889\n",
      "[20]\ttrain-logloss:0.00958\tval-logloss:0.13506\n",
      "[25]\ttrain-logloss:0.00792\tval-logloss:0.13933\n",
      "[30]\ttrain-logloss:0.00681\tval-logloss:0.14467\n",
      "[35]\ttrain-logloss:0.00604\tval-logloss:0.14868\n",
      "[40]\ttrain-logloss:0.00544\tval-logloss:0.15153\n",
      "[45]\ttrain-logloss:0.00504\tval-logloss:0.15369\n",
      "[50]\ttrain-logloss:0.00468\tval-logloss:0.15615\n",
      "[55]\ttrain-logloss:0.00438\tval-logloss:0.15806\n",
      "[60]\ttrain-logloss:0.00414\tval-logloss:0.15979\n",
      "[65]\ttrain-logloss:0.00393\tval-logloss:0.16142\n",
      "[70]\ttrain-logloss:0.00378\tval-logloss:0.16326\n",
      "[75]\ttrain-logloss:0.00362\tval-logloss:0.16444\n",
      "[80]\ttrain-logloss:0.00350\tval-logloss:0.16557\n",
      "[85]\ttrain-logloss:0.00340\tval-logloss:0.16670\n",
      "[90]\ttrain-logloss:0.00329\tval-logloss:0.16839\n",
      "[95]\ttrain-logloss:0.00320\tval-logloss:0.16934\n",
      "[100]\ttrain-logloss:0.00311\tval-logloss:0.17009\n",
      "[105]\ttrain-logloss:0.00303\tval-logloss:0.17056\n",
      "[110]\ttrain-logloss:0.00296\tval-logloss:0.17153\n",
      "[115]\ttrain-logloss:0.00289\tval-logloss:0.17293\n",
      "[120]\ttrain-logloss:0.00284\tval-logloss:0.17359\n",
      "[125]\ttrain-logloss:0.00278\tval-logloss:0.17440\n",
      "[130]\ttrain-logloss:0.00273\tval-logloss:0.17536\n",
      "[135]\ttrain-logloss:0.00268\tval-logloss:0.17639\n",
      "[140]\ttrain-logloss:0.00264\tval-logloss:0.17736\n",
      "[145]\ttrain-logloss:0.00260\tval-logloss:0.17792\n",
      "[150]\ttrain-logloss:0.00256\tval-logloss:0.17881\n",
      "[155]\ttrain-logloss:0.00253\tval-logloss:0.17975\n",
      "[160]\ttrain-logloss:0.00250\tval-logloss:0.18022\n",
      "[165]\ttrain-logloss:0.00247\tval-logloss:0.18071\n",
      "[170]\ttrain-logloss:0.00244\tval-logloss:0.18113\n",
      "[175]\ttrain-logloss:0.00241\tval-logloss:0.18148\n"
     ]
    },
    {
     "name": "stdout",
     "output_type": "stream",
     "text": [
      "[180]\ttrain-logloss:0.00239\tval-logloss:0.18179\n",
      "[185]\ttrain-logloss:0.00237\tval-logloss:0.18252\n",
      "[190]\ttrain-logloss:0.00234\tval-logloss:0.18286\n",
      "[195]\ttrain-logloss:0.00231\tval-logloss:0.18374\n",
      "[199]\ttrain-logloss:0.00229\tval-logloss:0.18392\n",
      "[0]\ttrain-logloss:0.39643\tval-logloss:0.64614\n",
      "[5]\ttrain-logloss:3.93617\tval-logloss:3.91588\n",
      "[10]\ttrain-logloss:3.93617\tval-logloss:3.91588\n",
      "[15]\ttrain-logloss:3.93617\tval-logloss:3.91588\n",
      "[20]\ttrain-logloss:3.93617\tval-logloss:3.91588\n",
      "[25]\ttrain-logloss:3.93617\tval-logloss:3.91588\n",
      "[30]\ttrain-logloss:3.93617\tval-logloss:3.91588\n",
      "[35]\ttrain-logloss:3.93617\tval-logloss:3.91588\n",
      "[40]\ttrain-logloss:3.93617\tval-logloss:3.91588\n",
      "[45]\ttrain-logloss:3.93617\tval-logloss:3.91588\n",
      "[50]\ttrain-logloss:3.93617\tval-logloss:3.91588\n",
      "[55]\ttrain-logloss:3.93617\tval-logloss:3.91588\n",
      "[60]\ttrain-logloss:3.93617\tval-logloss:3.91588\n",
      "[65]\ttrain-logloss:3.93617\tval-logloss:3.91588\n",
      "[70]\ttrain-logloss:3.93617\tval-logloss:3.91588\n",
      "[75]\ttrain-logloss:3.93617\tval-logloss:3.91588\n",
      "[80]\ttrain-logloss:3.93617\tval-logloss:3.91588\n",
      "[85]\ttrain-logloss:3.93617\tval-logloss:3.91588\n",
      "[90]\ttrain-logloss:3.93617\tval-logloss:3.91588\n",
      "[95]\ttrain-logloss:3.93617\tval-logloss:3.91588\n",
      "[100]\ttrain-logloss:3.93617\tval-logloss:3.91588\n",
      "[105]\ttrain-logloss:3.93617\tval-logloss:3.91588\n",
      "[110]\ttrain-logloss:3.93617\tval-logloss:3.91588\n",
      "[115]\ttrain-logloss:3.93617\tval-logloss:3.91588\n",
      "[120]\ttrain-logloss:3.93617\tval-logloss:3.91588\n",
      "[125]\ttrain-logloss:3.93617\tval-logloss:3.91588\n",
      "[130]\ttrain-logloss:3.93617\tval-logloss:3.91588\n",
      "[135]\ttrain-logloss:3.93617\tval-logloss:3.91588\n",
      "[140]\ttrain-logloss:3.93617\tval-logloss:3.91588\n",
      "[145]\ttrain-logloss:3.93617\tval-logloss:3.91588\n",
      "[150]\ttrain-logloss:3.93617\tval-logloss:3.91588\n",
      "[155]\ttrain-logloss:3.93617\tval-logloss:3.91588\n",
      "[160]\ttrain-logloss:3.93617\tval-logloss:3.91588\n",
      "[165]\ttrain-logloss:3.93617\tval-logloss:3.91588\n",
      "[170]\ttrain-logloss:3.93617\tval-logloss:3.91588\n",
      "[175]\ttrain-logloss:3.93617\tval-logloss:3.91588\n",
      "[180]\ttrain-logloss:3.93617\tval-logloss:3.91588\n",
      "[185]\ttrain-logloss:3.93617\tval-logloss:3.91588\n",
      "[190]\ttrain-logloss:3.93617\tval-logloss:3.91588\n",
      "[195]\ttrain-logloss:3.93617\tval-logloss:3.91588\n",
      "[199]\ttrain-logloss:3.93617\tval-logloss:3.91588\n",
      "[0]\ttrain-logloss:0.31584\tval-logloss:0.31487\n",
      "[5]\ttrain-logloss:0.29469\tval-logloss:0.29498\n",
      "[10]\ttrain-logloss:0.27682\tval-logloss:0.27836\n",
      "[15]\ttrain-logloss:0.26126\tval-logloss:0.26400\n",
      "[20]\ttrain-logloss:0.24744\tval-logloss:0.25136\n",
      "[25]\ttrain-logloss:0.23501\tval-logloss:0.24012\n",
      "[30]\ttrain-logloss:0.22369\tval-logloss:0.22995\n",
      "[35]\ttrain-logloss:0.21333\tval-logloss:0.22071\n",
      "[40]\ttrain-logloss:0.20378\tval-logloss:0.21222\n",
      "[45]\ttrain-logloss:0.19495\tval-logloss:0.20440\n",
      "[50]\ttrain-logloss:0.18675\tval-logloss:0.19721\n",
      "[55]\ttrain-logloss:0.17907\tval-logloss:0.19055\n",
      "[60]\ttrain-logloss:0.17189\tval-logloss:0.18431\n",
      "[65]\ttrain-logloss:0.16517\tval-logloss:0.17852\n",
      "[70]\ttrain-logloss:0.15887\tval-logloss:0.17317\n",
      "[75]\ttrain-logloss:0.15291\tval-logloss:0.16815\n",
      "[80]\ttrain-logloss:0.14729\tval-logloss:0.16345\n",
      "[85]\ttrain-logloss:0.14201\tval-logloss:0.15907\n",
      "[90]\ttrain-logloss:0.13704\tval-logloss:0.15497\n",
      "[95]\ttrain-logloss:0.13234\tval-logloss:0.15116\n",
      "[100]\ttrain-logloss:0.12790\tval-logloss:0.14760\n",
      "[105]\ttrain-logloss:0.12364\tval-logloss:0.14425\n",
      "[110]\ttrain-logloss:0.11958\tval-logloss:0.14113\n",
      "[115]\ttrain-logloss:0.11575\tval-logloss:0.13818\n",
      "[120]\ttrain-logloss:0.11212\tval-logloss:0.13542\n",
      "[125]\ttrain-logloss:0.10867\tval-logloss:0.13282\n",
      "[130]\ttrain-logloss:0.10539\tval-logloss:0.13038\n",
      "[135]\ttrain-logloss:0.10227\tval-logloss:0.12808\n",
      "[140]\ttrain-logloss:0.09930\tval-logloss:0.12588\n",
      "[145]\ttrain-logloss:0.09649\tval-logloss:0.12384\n",
      "[150]\ttrain-logloss:0.09381\tval-logloss:0.12191\n",
      "[155]\ttrain-logloss:0.09125\tval-logloss:0.12011\n",
      "[160]\ttrain-logloss:0.08881\tval-logloss:0.11841\n",
      "[165]\ttrain-logloss:0.08650\tval-logloss:0.11685\n",
      "[170]\ttrain-logloss:0.08426\tval-logloss:0.11537\n",
      "[175]\ttrain-logloss:0.08210\tval-logloss:0.11394\n",
      "[180]\ttrain-logloss:0.08004\tval-logloss:0.11256\n",
      "[185]\ttrain-logloss:0.07804\tval-logloss:0.11125\n",
      "[190]\ttrain-logloss:0.07612\tval-logloss:0.10999\n",
      "[195]\ttrain-logloss:0.07428\tval-logloss:0.10880\n",
      "[199]\ttrain-logloss:0.07287\tval-logloss:0.10792\n",
      "[0]\ttrain-logloss:0.30644\tval-logloss:0.30599\n",
      "[5]\ttrain-logloss:0.25457\tval-logloss:0.25779\n",
      "[10]\ttrain-logloss:0.21851\tval-logloss:0.22524\n",
      "[15]\ttrain-logloss:0.19075\tval-logloss:0.20062\n",
      "[20]\ttrain-logloss:0.16842\tval-logloss:0.18127\n",
      "[25]\ttrain-logloss:0.14998\tval-logloss:0.16572\n",
      "[30]\ttrain-logloss:0.13456\tval-logloss:0.15298\n",
      "[35]\ttrain-logloss:0.12148\tval-logloss:0.14254\n",
      "[40]\ttrain-logloss:0.11029\tval-logloss:0.13389\n",
      "[45]\ttrain-logloss:0.10070\tval-logloss:0.12672\n",
      "[50]\ttrain-logloss:0.09245\tval-logloss:0.12079\n",
      "[55]\ttrain-logloss:0.08528\tval-logloss:0.11595\n",
      "[60]\ttrain-logloss:0.07892\tval-logloss:0.11174\n",
      "[65]\ttrain-logloss:0.07331\tval-logloss:0.10808\n",
      "[70]\ttrain-logloss:0.06838\tval-logloss:0.10505\n",
      "[75]\ttrain-logloss:0.06405\tval-logloss:0.10256\n",
      "[80]\ttrain-logloss:0.06018\tval-logloss:0.10049\n",
      "[85]\ttrain-logloss:0.05673\tval-logloss:0.09866\n",
      "[90]\ttrain-logloss:0.05365\tval-logloss:0.09718\n",
      "[95]\ttrain-logloss:0.05089\tval-logloss:0.09601\n",
      "[100]\ttrain-logloss:0.04839\tval-logloss:0.09497\n",
      "[105]\ttrain-logloss:0.04616\tval-logloss:0.09420\n",
      "[110]\ttrain-logloss:0.04412\tval-logloss:0.09361\n",
      "[115]\ttrain-logloss:0.04228\tval-logloss:0.09304\n",
      "[120]\ttrain-logloss:0.04060\tval-logloss:0.09267\n",
      "[125]\ttrain-logloss:0.03910\tval-logloss:0.09240\n",
      "[130]\ttrain-logloss:0.03771\tval-logloss:0.09225\n",
      "[135]\ttrain-logloss:0.03639\tval-logloss:0.09219\n",
      "[140]\ttrain-logloss:0.03515\tval-logloss:0.09219\n",
      "[145]\ttrain-logloss:0.03405\tval-logloss:0.09217\n",
      "[150]\ttrain-logloss:0.03304\tval-logloss:0.09222\n",
      "[155]\ttrain-logloss:0.03214\tval-logloss:0.09234\n",
      "[160]\ttrain-logloss:0.03127\tval-logloss:0.09252\n",
      "[165]\ttrain-logloss:0.03050\tval-logloss:0.09263\n",
      "[170]\ttrain-logloss:0.02985\tval-logloss:0.09265\n",
      "[175]\ttrain-logloss:0.02924\tval-logloss:0.09271\n",
      "[180]\ttrain-logloss:0.02860\tval-logloss:0.09278\n",
      "[185]\ttrain-logloss:0.02804\tval-logloss:0.09287\n",
      "[190]\ttrain-logloss:0.02763\tval-logloss:0.09302\n",
      "[195]\ttrain-logloss:0.02723\tval-logloss:0.09316\n",
      "[199]\ttrain-logloss:0.02691\tval-logloss:0.09329\n",
      "[0]\ttrain-logloss:0.27519\tval-logloss:0.27657\n",
      "[5]\ttrain-logloss:0.16973\tval-logloss:0.18209\n",
      "[10]\ttrain-logloss:0.11822\tval-logloss:0.13975\n",
      "[15]\ttrain-logloss:0.08786\tval-logloss:0.11758\n",
      "[20]\ttrain-logloss:0.06852\tval-logloss:0.10532\n",
      "[25]\ttrain-logloss:0.05564\tval-logloss:0.09842\n",
      "[30]\ttrain-logloss:0.04679\tval-logloss:0.09481\n",
      "[35]\ttrain-logloss:0.04040\tval-logloss:0.09307\n",
      "[40]\ttrain-logloss:0.03583\tval-logloss:0.09249\n",
      "[45]\ttrain-logloss:0.03219\tval-logloss:0.09276\n",
      "[50]\ttrain-logloss:0.02954\tval-logloss:0.09304\n",
      "[55]\ttrain-logloss:0.02745\tval-logloss:0.09352\n",
      "[60]\ttrain-logloss:0.02605\tval-logloss:0.09401\n",
      "[65]\ttrain-logloss:0.02454\tval-logloss:0.09467\n",
      "[70]\ttrain-logloss:0.02371\tval-logloss:0.09509\n",
      "[75]\ttrain-logloss:0.02314\tval-logloss:0.09534\n",
      "[80]\ttrain-logloss:0.02233\tval-logloss:0.09594\n",
      "[85]\ttrain-logloss:0.02156\tval-logloss:0.09652\n",
      "[90]\ttrain-logloss:0.02050\tval-logloss:0.09725\n",
      "[95]\ttrain-logloss:0.01953\tval-logloss:0.09819\n",
      "[100]\ttrain-logloss:0.01876\tval-logloss:0.09895\n",
      "[105]\ttrain-logloss:0.01806\tval-logloss:0.09958\n",
      "[110]\ttrain-logloss:0.01747\tval-logloss:0.10027\n",
      "[115]\ttrain-logloss:0.01677\tval-logloss:0.10094\n",
      "[120]\ttrain-logloss:0.01635\tval-logloss:0.10147\n",
      "[125]\ttrain-logloss:0.01575\tval-logloss:0.10199\n",
      "[130]\ttrain-logloss:0.01524\tval-logloss:0.10276\n",
      "[135]\ttrain-logloss:0.01485\tval-logloss:0.10332\n",
      "[140]\ttrain-logloss:0.01432\tval-logloss:0.10421\n",
      "[145]\ttrain-logloss:0.01400\tval-logloss:0.10471\n",
      "[150]\ttrain-logloss:0.01369\tval-logloss:0.10530\n",
      "[155]\ttrain-logloss:0.01343\tval-logloss:0.10575\n",
      "[160]\ttrain-logloss:0.01312\tval-logloss:0.10611\n",
      "[165]\ttrain-logloss:0.01280\tval-logloss:0.10666\n",
      "[170]\ttrain-logloss:0.01252\tval-logloss:0.10740\n",
      "[175]\ttrain-logloss:0.01225\tval-logloss:0.10799\n",
      "[180]\ttrain-logloss:0.01202\tval-logloss:0.10838\n",
      "[185]\ttrain-logloss:0.01181\tval-logloss:0.10877\n",
      "[190]\ttrain-logloss:0.01163\tval-logloss:0.10914\n",
      "[195]\ttrain-logloss:0.01152\tval-logloss:0.10944\n",
      "[199]\ttrain-logloss:0.01126\tval-logloss:0.10990\n",
      "[0]\ttrain-logloss:0.20295\tval-logloss:0.20934\n",
      "[5]\ttrain-logloss:0.07652\tval-logloss:0.10995\n",
      "[10]\ttrain-logloss:0.04385\tval-logloss:0.09491\n",
      "[15]\ttrain-logloss:0.03083\tval-logloss:0.09545\n"
     ]
    },
    {
     "name": "stdout",
     "output_type": "stream",
     "text": [
      "[20]\ttrain-logloss:0.02505\tval-logloss:0.09647\n",
      "[25]\ttrain-logloss:0.02204\tval-logloss:0.09822\n",
      "[30]\ttrain-logloss:0.01916\tval-logloss:0.10016\n",
      "[35]\ttrain-logloss:0.01696\tval-logloss:0.10256\n",
      "[40]\ttrain-logloss:0.01506\tval-logloss:0.10523\n",
      "[45]\ttrain-logloss:0.01345\tval-logloss:0.10773\n",
      "[50]\ttrain-logloss:0.01252\tval-logloss:0.10928\n",
      "[55]\ttrain-logloss:0.01156\tval-logloss:0.11170\n",
      "[60]\ttrain-logloss:0.01073\tval-logloss:0.11314\n",
      "[65]\ttrain-logloss:0.01002\tval-logloss:0.11486\n",
      "[70]\ttrain-logloss:0.00949\tval-logloss:0.11651\n",
      "[75]\ttrain-logloss:0.00917\tval-logloss:0.11750\n",
      "[80]\ttrain-logloss:0.00886\tval-logloss:0.11863\n",
      "[85]\ttrain-logloss:0.00836\tval-logloss:0.12008\n",
      "[90]\ttrain-logloss:0.00798\tval-logloss:0.12151\n",
      "[95]\ttrain-logloss:0.00766\tval-logloss:0.12259\n",
      "[100]\ttrain-logloss:0.00736\tval-logloss:0.12368\n",
      "[105]\ttrain-logloss:0.00706\tval-logloss:0.12491\n",
      "[110]\ttrain-logloss:0.00682\tval-logloss:0.12583\n",
      "[115]\ttrain-logloss:0.00664\tval-logloss:0.12675\n",
      "[120]\ttrain-logloss:0.00647\tval-logloss:0.12757\n",
      "[125]\ttrain-logloss:0.00631\tval-logloss:0.12821\n",
      "[130]\ttrain-logloss:0.00610\tval-logloss:0.12929\n",
      "[135]\ttrain-logloss:0.00592\tval-logloss:0.13022\n",
      "[140]\ttrain-logloss:0.00576\tval-logloss:0.13110\n",
      "[145]\ttrain-logloss:0.00558\tval-logloss:0.13203\n",
      "[150]\ttrain-logloss:0.00545\tval-logloss:0.13277\n",
      "[155]\ttrain-logloss:0.00531\tval-logloss:0.13358\n",
      "[160]\ttrain-logloss:0.00518\tval-logloss:0.13439\n",
      "[165]\ttrain-logloss:0.00508\tval-logloss:0.13495\n",
      "[170]\ttrain-logloss:0.00497\tval-logloss:0.13555\n",
      "[175]\ttrain-logloss:0.00487\tval-logloss:0.13636\n",
      "[180]\ttrain-logloss:0.00479\tval-logloss:0.13699\n",
      "[185]\ttrain-logloss:0.00470\tval-logloss:0.13766\n",
      "[190]\ttrain-logloss:0.00463\tval-logloss:0.13829\n",
      "[195]\ttrain-logloss:0.00455\tval-logloss:0.13887\n",
      "[199]\ttrain-logloss:0.00449\tval-logloss:0.13930\n",
      "[0]\ttrain-logloss:0.10788\tval-logloss:0.12977\n",
      "[5]\ttrain-logloss:0.02789\tval-logloss:0.10875\n",
      "[10]\ttrain-logloss:0.01643\tval-logloss:0.11940\n",
      "[15]\ttrain-logloss:0.01125\tval-logloss:0.12654\n",
      "[20]\ttrain-logloss:0.00870\tval-logloss:0.13231\n",
      "[25]\ttrain-logloss:0.00718\tval-logloss:0.13795\n",
      "[30]\ttrain-logloss:0.00626\tval-logloss:0.14225\n",
      "[35]\ttrain-logloss:0.00559\tval-logloss:0.14499\n",
      "[40]\ttrain-logloss:0.00508\tval-logloss:0.14827\n",
      "[45]\ttrain-logloss:0.00471\tval-logloss:0.15076\n",
      "[50]\ttrain-logloss:0.00443\tval-logloss:0.15240\n",
      "[55]\ttrain-logloss:0.00419\tval-logloss:0.15460\n",
      "[60]\ttrain-logloss:0.00398\tval-logloss:0.15648\n",
      "[65]\ttrain-logloss:0.00381\tval-logloss:0.15831\n",
      "[70]\ttrain-logloss:0.00364\tval-logloss:0.15952\n",
      "[75]\ttrain-logloss:0.00351\tval-logloss:0.16073\n",
      "[80]\ttrain-logloss:0.00339\tval-logloss:0.16151\n",
      "[85]\ttrain-logloss:0.00329\tval-logloss:0.16245\n",
      "[90]\ttrain-logloss:0.00320\tval-logloss:0.16354\n",
      "[95]\ttrain-logloss:0.00311\tval-logloss:0.16484\n",
      "[100]\ttrain-logloss:0.00303\tval-logloss:0.16589\n",
      "[105]\ttrain-logloss:0.00296\tval-logloss:0.16686\n",
      "[110]\ttrain-logloss:0.00289\tval-logloss:0.16782\n",
      "[115]\ttrain-logloss:0.00283\tval-logloss:0.16885\n",
      "[120]\ttrain-logloss:0.00278\tval-logloss:0.16925\n",
      "[125]\ttrain-logloss:0.00272\tval-logloss:0.17029\n",
      "[130]\ttrain-logloss:0.00268\tval-logloss:0.17103\n",
      "[135]\ttrain-logloss:0.00264\tval-logloss:0.17156\n",
      "[140]\ttrain-logloss:0.00260\tval-logloss:0.17205\n",
      "[145]\ttrain-logloss:0.00256\tval-logloss:0.17280\n",
      "[150]\ttrain-logloss:0.00252\tval-logloss:0.17309\n",
      "[155]\ttrain-logloss:0.00249\tval-logloss:0.17375\n",
      "[160]\ttrain-logloss:0.00246\tval-logloss:0.17438\n",
      "[165]\ttrain-logloss:0.00243\tval-logloss:0.17496\n",
      "[170]\ttrain-logloss:0.00240\tval-logloss:0.17588\n",
      "[175]\ttrain-logloss:0.00237\tval-logloss:0.17628\n",
      "[180]\ttrain-logloss:0.00235\tval-logloss:0.17690\n",
      "[185]\ttrain-logloss:0.00232\tval-logloss:0.17735\n",
      "[190]\ttrain-logloss:0.00230\tval-logloss:0.17790\n",
      "[195]\ttrain-logloss:0.00228\tval-logloss:0.17829\n",
      "[199]\ttrain-logloss:0.00226\tval-logloss:0.17845\n",
      "[0]\ttrain-logloss:0.39595\tval-logloss:0.64899\n",
      "[5]\ttrain-logloss:13.16020\tval-logloss:13.18329\n",
      "[10]\ttrain-logloss:13.16020\tval-logloss:13.18329\n",
      "[15]\ttrain-logloss:13.16020\tval-logloss:13.18329\n",
      "[20]\ttrain-logloss:13.16020\tval-logloss:13.18329\n",
      "[25]\ttrain-logloss:13.16020\tval-logloss:13.18329\n",
      "[30]\ttrain-logloss:13.16020\tval-logloss:13.18329\n",
      "[35]\ttrain-logloss:13.16020\tval-logloss:13.18329\n",
      "[40]\ttrain-logloss:13.16020\tval-logloss:13.18329\n",
      "[45]\ttrain-logloss:13.16020\tval-logloss:13.18329\n",
      "[50]\ttrain-logloss:13.16020\tval-logloss:13.18329\n",
      "[55]\ttrain-logloss:13.16020\tval-logloss:13.18329\n",
      "[60]\ttrain-logloss:13.16020\tval-logloss:13.18329\n",
      "[65]\ttrain-logloss:13.16020\tval-logloss:13.18329\n",
      "[70]\ttrain-logloss:13.16020\tval-logloss:13.18329\n",
      "[75]\ttrain-logloss:13.16020\tval-logloss:13.18329\n",
      "[80]\ttrain-logloss:13.16020\tval-logloss:13.18329\n",
      "[85]\ttrain-logloss:13.16020\tval-logloss:13.18329\n",
      "[90]\ttrain-logloss:13.16020\tval-logloss:13.18329\n",
      "[95]\ttrain-logloss:13.16020\tval-logloss:13.18329\n",
      "[100]\ttrain-logloss:13.16020\tval-logloss:13.18329\n",
      "[105]\ttrain-logloss:13.16020\tval-logloss:13.18329\n",
      "[110]\ttrain-logloss:13.16020\tval-logloss:13.18329\n",
      "[115]\ttrain-logloss:13.16020\tval-logloss:13.18329\n",
      "[120]\ttrain-logloss:13.16020\tval-logloss:13.18329\n",
      "[125]\ttrain-logloss:13.16020\tval-logloss:13.18329\n",
      "[130]\ttrain-logloss:13.16020\tval-logloss:13.18329\n",
      "[135]\ttrain-logloss:13.16020\tval-logloss:13.18329\n",
      "[140]\ttrain-logloss:13.16020\tval-logloss:13.18329\n",
      "[145]\ttrain-logloss:13.16020\tval-logloss:13.18329\n",
      "[150]\ttrain-logloss:13.16020\tval-logloss:13.18329\n",
      "[155]\ttrain-logloss:13.16020\tval-logloss:13.18329\n",
      "[160]\ttrain-logloss:13.16020\tval-logloss:13.18329\n",
      "[165]\ttrain-logloss:13.16020\tval-logloss:13.18329\n",
      "[170]\ttrain-logloss:13.16020\tval-logloss:13.18329\n",
      "[175]\ttrain-logloss:13.16020\tval-logloss:13.18329\n",
      "[180]\ttrain-logloss:13.16020\tval-logloss:13.18329\n",
      "[185]\ttrain-logloss:13.16020\tval-logloss:13.18329\n",
      "[190]\ttrain-logloss:13.16020\tval-logloss:13.18329\n",
      "[195]\ttrain-logloss:13.16020\tval-logloss:13.18329\n",
      "[199]\ttrain-logloss:13.16020\tval-logloss:13.18329\n"
     ]
    }
   ],
   "source": [
    "xgb_lst = []\n",
    "\n",
    "for depth in [10, 15, 20, 25]:\n",
    "    for eta in [0.01, 0.03, 0.1, 0.3, 1, 10]:\n",
    "            xgb_params = {\n",
    "                'eta': eta, \n",
    "                'max_depth': depth,\n",
    "                'min_child_weight': 1,\n",
    "                'early_stopping_rounds': 10,\n",
    "\n",
    "                'objective': 'binary:logistic',\n",
    "                'nthread': 8,\n",
    "\n",
    "                'seed': 1,\n",
    "                'verbosity': 1,\n",
    "            }\n",
    "\n",
    "            model = xgb.train(xgb_params, dtrain, num_boost_round=200,\n",
    "                              verbose_eval=5,\n",
    "                              evals=watchlist)\n",
    "\n",
    "            y_pred = model.predict(dval)\n",
    "            predictions = [round(value) for value in y_pred]\n",
    "            eval_score = roc_auc_score(y_val, predictions)\n",
    "            \n",
    "            xgb_lst.append((depth, eta, round(eval_score, 4)))"
   ]
  },
  {
   "cell_type": "code",
   "execution_count": 96,
   "id": "31e6302a",
   "metadata": {},
   "outputs": [
    {
     "data": {
      "text/plain": [
       "(10, 1, 0.8566)"
      ]
     },
     "execution_count": 96,
     "metadata": {},
     "output_type": "execute_result"
    }
   ],
   "source": [
    "xgb_lst[np.argmax(np.array(xgb_lst)[:, 2])]"
   ]
  },
  {
   "cell_type": "markdown",
   "id": "511d1d81",
   "metadata": {},
   "source": [
    "#### ENSEMBLED"
   ]
  },
  {
   "cell_type": "code",
   "execution_count": 97,
   "id": "9b04cac2",
   "metadata": {},
   "outputs": [],
   "source": [
    "est, depth, n_split, score = rf_lst[np.argmax(np.array(rf_lst)[:, 3])]\n",
    "\n",
    "rf = RandomForestClassifier(n_estimators=est, max_depth=depth, min_samples_split=n_split, \n",
    "                            random_state=1, n_jobs=-1)\n",
    "rf.fit(X_train, y_train)\n",
    "rf_pred = rf.predict(X_val)"
   ]
  },
  {
   "cell_type": "code",
   "execution_count": 98,
   "id": "0cf1694d",
   "metadata": {},
   "outputs": [
    {
     "name": "stdout",
     "output_type": "stream",
     "text": [
      "              precision    recall  f1-score   support\n",
      "\n",
      "           0       0.97      1.00      0.98     14045\n",
      "           1       1.00      0.67      0.80      1339\n",
      "\n",
      "    accuracy                           0.97     15384\n",
      "   macro avg       0.98      0.83      0.89     15384\n",
      "weighted avg       0.97      0.97      0.97     15384\n",
      "\n",
      "0.8345780433159073\n"
     ]
    }
   ],
   "source": [
    "print(classification_report(y_val, rf_pred))\n",
    "print(roc_auc_score(y_val, rf_pred))"
   ]
  },
  {
   "cell_type": "code",
   "execution_count": 99,
   "id": "857de318",
   "metadata": {
    "scrolled": true
   },
   "outputs": [
    {
     "name": "stdout",
     "output_type": "stream",
     "text": [
      "[0]\ttrain-logloss:0.12038\tval-logloss:0.12490\n",
      "[5]\ttrain-logloss:0.07147\tval-logloss:0.08716\n",
      "[10]\ttrain-logloss:0.05398\tval-logloss:0.09673\n",
      "[15]\ttrain-logloss:0.04587\tval-logloss:0.10197\n",
      "[20]\ttrain-logloss:0.03537\tval-logloss:0.10764\n",
      "[25]\ttrain-logloss:0.02868\tval-logloss:0.11475\n",
      "[30]\ttrain-logloss:0.02336\tval-logloss:0.11953\n",
      "[35]\ttrain-logloss:0.01961\tval-logloss:0.12292\n",
      "[40]\ttrain-logloss:0.01658\tval-logloss:0.12625\n",
      "[45]\ttrain-logloss:0.01450\tval-logloss:0.12951\n",
      "[50]\ttrain-logloss:0.01324\tval-logloss:0.13225\n",
      "[55]\ttrain-logloss:0.01181\tval-logloss:0.13489\n",
      "[60]\ttrain-logloss:0.01087\tval-logloss:0.13692\n",
      "[65]\ttrain-logloss:0.00988\tval-logloss:0.14009\n",
      "[70]\ttrain-logloss:0.00921\tval-logloss:0.14268\n",
      "[75]\ttrain-logloss:0.00862\tval-logloss:0.14462\n",
      "[80]\ttrain-logloss:0.00790\tval-logloss:0.14746\n",
      "[85]\ttrain-logloss:0.00731\tval-logloss:0.14972\n",
      "[90]\ttrain-logloss:0.00681\tval-logloss:0.15219\n",
      "[95]\ttrain-logloss:0.00644\tval-logloss:0.15355\n",
      "[100]\ttrain-logloss:0.00625\tval-logloss:0.15464\n",
      "[105]\ttrain-logloss:0.00589\tval-logloss:0.15621\n",
      "[110]\ttrain-logloss:0.00564\tval-logloss:0.15792\n",
      "[115]\ttrain-logloss:0.00539\tval-logloss:0.15897\n",
      "[120]\ttrain-logloss:0.00518\tval-logloss:0.15959\n",
      "[125]\ttrain-logloss:0.00501\tval-logloss:0.16086\n",
      "[130]\ttrain-logloss:0.00483\tval-logloss:0.16191\n",
      "[135]\ttrain-logloss:0.00469\tval-logloss:0.16343\n",
      "[140]\ttrain-logloss:0.00457\tval-logloss:0.16435\n",
      "[145]\ttrain-logloss:0.00441\tval-logloss:0.16569\n",
      "[150]\ttrain-logloss:0.00430\tval-logloss:0.16637\n",
      "[155]\ttrain-logloss:0.00420\tval-logloss:0.16737\n",
      "[160]\ttrain-logloss:0.00411\tval-logloss:0.16842\n",
      "[165]\ttrain-logloss:0.00399\tval-logloss:0.16951\n",
      "[170]\ttrain-logloss:0.00389\tval-logloss:0.17069\n",
      "[175]\ttrain-logloss:0.00380\tval-logloss:0.17134\n",
      "[180]\ttrain-logloss:0.00371\tval-logloss:0.17271\n",
      "[185]\ttrain-logloss:0.00361\tval-logloss:0.17342\n",
      "[190]\ttrain-logloss:0.00353\tval-logloss:0.17402\n",
      "[195]\ttrain-logloss:0.00346\tval-logloss:0.17512\n",
      "[199]\ttrain-logloss:0.00340\tval-logloss:0.17580\n"
     ]
    }
   ],
   "source": [
    "depth, eta, score = xgb_lst[np.argmax(np.array(xgb_lst)[:, 2])]\n",
    "\n",
    "xgb_params = {\n",
    "    'eta': eta, \n",
    "    'max_depth': depth,\n",
    "    'min_child_weight': 1,\n",
    "    'early_stopping_rounds': 10,\n",
    "\n",
    "    'objective': 'binary:logistic',\n",
    "    'nthread': 8,\n",
    "\n",
    "    'seed': 1,\n",
    "    'verbosity': 1,\n",
    "}\n",
    "\n",
    "xgb_model = xgb.train(xgb_params, dtrain, num_boost_round=200,\n",
    "                  verbose_eval=5,\n",
    "                  evals=watchlist)\n",
    "\n",
    "y_pred = xgb_model.predict(dval)\n",
    "xgb_pred = [round(value) for value in y_pred]\n",
    "eval_score = roc_auc_score(y_val, xgb_pred)"
   ]
  },
  {
   "cell_type": "code",
   "execution_count": 100,
   "id": "b95f2104",
   "metadata": {},
   "outputs": [
    {
     "name": "stdout",
     "output_type": "stream",
     "text": [
      "              precision    recall  f1-score   support\n",
      "\n",
      "           0       0.97      0.99      0.98     14045\n",
      "           1       0.82      0.73      0.77      1339\n",
      "\n",
      "    accuracy                           0.96     15384\n",
      "   macro avg       0.90      0.86      0.88     15384\n",
      "weighted avg       0.96      0.96      0.96     15384\n",
      "\n",
      "0.8566372996643935\n"
     ]
    }
   ],
   "source": [
    "print(classification_report(y_val, xgb_pred))\n",
    "print(eval_score)"
   ]
  },
  {
   "cell_type": "code",
   "execution_count": 101,
   "id": "1265f05e",
   "metadata": {},
   "outputs": [],
   "source": [
    "val_pred_df = pd.DataFrame({'LOGISTIC':pred_val, 'RF':rf_pred, 'XGB':xgb_pred})\n",
    "val_pred_df['Ensembled'] = val_pred_df.mode(axis=1)"
   ]
  },
  {
   "cell_type": "code",
   "execution_count": 102,
   "id": "f112b84c",
   "metadata": {},
   "outputs": [
    {
     "name": "stdout",
     "output_type": "stream",
     "text": [
      "0.8399648680718197\n",
      "              precision    recall  f1-score   support\n",
      "\n",
      "           0       0.97      1.00      0.98     14045\n",
      "           1       0.97      0.68      0.80      1339\n",
      "\n",
      "    accuracy                           0.97     15384\n",
      "   macro avg       0.97      0.84      0.89     15384\n",
      "weighted avg       0.97      0.97      0.97     15384\n",
      "\n"
     ]
    }
   ],
   "source": [
    "print(roc_auc_score(y_val, val_pred_df['Ensembled']))\n",
    "print(classification_report(y_val, val_pred_df['Ensembled']))"
   ]
  },
  {
   "cell_type": "code",
   "execution_count": 46,
   "id": "54c26791",
   "metadata": {},
   "outputs": [],
   "source": [
    "# test_pred_df = pd.DataFrame({'LOGISTIC':lr_test_pred, 'RF':rf_test_pred, 'XGB':xgb_test_pred})\n",
    "# test_pred_df['Ensembled'] = test_pred_df.mode(axis=1)\n",
    "\n",
    "# print(roc_auc_score(y_test, test_pred_df['Ensembled']))\n",
    "# print(classification_report(y_test, test_pred_df['Ensembled']))"
   ]
  },
  {
   "cell_type": "markdown",
   "id": "ab296c73",
   "metadata": {},
   "source": [
    "#### TESTING"
   ]
  },
  {
   "cell_type": "code",
   "execution_count": 109,
   "id": "9460f52f",
   "metadata": {},
   "outputs": [
    {
     "name": "stdout",
     "output_type": "stream",
     "text": [
      "              precision    recall  f1-score   support\n",
      "\n",
      "           0       0.96      0.99      0.98     17489\n",
      "           1       0.86      0.63      0.73      1741\n",
      "\n",
      "    accuracy                           0.96     19230\n",
      "   macro avg       0.91      0.81      0.85     19230\n",
      "weighted avg       0.95      0.96      0.95     19230\n",
      "\n",
      "0.8109371381679841\n"
     ]
    }
   ],
   "source": [
    "model = LogisticRegression(solver='liblinear', C=opt_c, max_iter=1000, random_state=1)\n",
    "model.fit(X_full_train, y_full_train)\n",
    "\n",
    "lr_test_pred = model.predict(X_test)\n",
    "print(classification_report(y_test, lr_test_pred))\n",
    "print(roc_auc_score(y_test, lr_test_pred))"
   ]
  },
  {
   "cell_type": "code",
   "execution_count": 110,
   "id": "c81f4818",
   "metadata": {},
   "outputs": [
    {
     "name": "stdout",
     "output_type": "stream",
     "text": [
      "              precision    recall  f1-score   support\n",
      "\n",
      "           0       0.97      1.00      0.98     17489\n",
      "           1       1.00      0.65      0.79      1741\n",
      "\n",
      "    accuracy                           0.97     19230\n",
      "   macro avg       0.98      0.83      0.89     19230\n",
      "weighted avg       0.97      0.97      0.97     19230\n",
      "\n",
      "0.825617720684954\n"
     ]
    }
   ],
   "source": [
    "rf = RandomForestClassifier(n_estimators=est, max_depth=depth, min_samples_split=n_split, \n",
    "                            random_state=1, n_jobs=-1)\n",
    "rf.fit(X_full_train, y_full_train)\n",
    "\n",
    "rf_test_pred = rf.predict(X_test)\n",
    "print(classification_report(y_test, rf_test_pred))\n",
    "print(roc_auc_score(y_test, rf_test_pred))"
   ]
  },
  {
   "cell_type": "code",
   "execution_count": 111,
   "id": "41020bd2",
   "metadata": {},
   "outputs": [
    {
     "name": "stdout",
     "output_type": "stream",
     "text": [
      "[0]\ttrain-logloss:0.12093\tval-logloss:0.12061\n",
      "[5]\ttrain-logloss:0.07342\tval-logloss:0.07089\n",
      "[10]\ttrain-logloss:0.06193\tval-logloss:0.05931\n",
      "[15]\ttrain-logloss:0.05041\tval-logloss:0.04918\n",
      "[20]\ttrain-logloss:0.03846\tval-logloss:0.03766\n",
      "[25]\ttrain-logloss:0.03101\tval-logloss:0.03069\n",
      "[30]\ttrain-logloss:0.02614\tval-logloss:0.02575\n",
      "[35]\ttrain-logloss:0.02297\tval-logloss:0.02222\n",
      "[40]\ttrain-logloss:0.01922\tval-logloss:0.01928\n",
      "[45]\ttrain-logloss:0.01686\tval-logloss:0.01664\n",
      "[50]\ttrain-logloss:0.01473\tval-logloss:0.01461\n",
      "[55]\ttrain-logloss:0.01360\tval-logloss:0.01342\n",
      "[60]\ttrain-logloss:0.01265\tval-logloss:0.01247\n",
      "[65]\ttrain-logloss:0.01145\tval-logloss:0.01131\n",
      "[70]\ttrain-logloss:0.01067\tval-logloss:0.01063\n",
      "[75]\ttrain-logloss:0.00985\tval-logloss:0.00989\n",
      "[80]\ttrain-logloss:0.00924\tval-logloss:0.00926\n",
      "[85]\ttrain-logloss:0.00874\tval-logloss:0.00889\n",
      "[90]\ttrain-logloss:0.00826\tval-logloss:0.00848\n",
      "[95]\ttrain-logloss:0.00763\tval-logloss:0.00789\n",
      "[100]\ttrain-logloss:0.00728\tval-logloss:0.00764\n",
      "[105]\ttrain-logloss:0.00706\tval-logloss:0.00741\n",
      "[110]\ttrain-logloss:0.00672\tval-logloss:0.00699\n",
      "[115]\ttrain-logloss:0.00647\tval-logloss:0.00670\n",
      "[120]\ttrain-logloss:0.00613\tval-logloss:0.00626\n",
      "[125]\ttrain-logloss:0.00588\tval-logloss:0.00600\n",
      "[130]\ttrain-logloss:0.00572\tval-logloss:0.00588\n",
      "[135]\ttrain-logloss:0.00557\tval-logloss:0.00579\n",
      "[140]\ttrain-logloss:0.00537\tval-logloss:0.00559\n",
      "[145]\ttrain-logloss:0.00519\tval-logloss:0.00538\n",
      "[150]\ttrain-logloss:0.00507\tval-logloss:0.00522\n",
      "[155]\ttrain-logloss:0.00493\tval-logloss:0.00508\n",
      "[160]\ttrain-logloss:0.00478\tval-logloss:0.00495\n",
      "[165]\ttrain-logloss:0.00464\tval-logloss:0.00479\n",
      "[170]\ttrain-logloss:0.00451\tval-logloss:0.00468\n",
      "[175]\ttrain-logloss:0.00441\tval-logloss:0.00457\n",
      "[180]\ttrain-logloss:0.00434\tval-logloss:0.00454\n",
      "[185]\ttrain-logloss:0.00428\tval-logloss:0.00442\n",
      "[190]\ttrain-logloss:0.00418\tval-logloss:0.00434\n",
      "[195]\ttrain-logloss:0.00410\tval-logloss:0.00422\n",
      "[199]\ttrain-logloss:0.00404\tval-logloss:0.00414\n",
      "              precision    recall  f1-score   support\n",
      "\n",
      "           0       0.97      0.98      0.98     17489\n",
      "           1       0.82      0.71      0.76      1741\n",
      "\n",
      "    accuracy                           0.96     19230\n",
      "   macro avg       0.90      0.85      0.87     19230\n",
      "weighted avg       0.96      0.96      0.96     19230\n",
      "\n",
      "0.8465891204807197\n"
     ]
    }
   ],
   "source": [
    "xgb_model = xgb.train(xgb_params, dfull_train, num_boost_round=200,\n",
    "                  verbose_eval=5,\n",
    "                  evals=watchlist)\n",
    "\n",
    "y_pred = xgb_model.predict(dtest)\n",
    "xgb_test_pred = [round(value) for value in y_pred]\n",
    "\n",
    "print(classification_report(y_test, xgb_test_pred))\n",
    "print(roc_auc_score(y_test, xgb_test_pred))"
   ]
  },
  {
   "cell_type": "code",
   "execution_count": 112,
   "id": "139f9cb6",
   "metadata": {},
   "outputs": [
    {
     "name": "stdout",
     "output_type": "stream",
     "text": [
      "0.8356447175510239\n",
      "              precision    recall  f1-score   support\n",
      "\n",
      "           0       0.97      1.00      0.98     17489\n",
      "           1       0.97      0.67      0.80      1741\n",
      "\n",
      "    accuracy                           0.97     19230\n",
      "   macro avg       0.97      0.84      0.89     19230\n",
      "weighted avg       0.97      0.97      0.97     19230\n",
      "\n"
     ]
    }
   ],
   "source": [
    "test_pred_df = pd.DataFrame({'LOGISTIC':lr_test_pred, 'RF':rf_test_pred, 'XGB':xgb_test_pred})\n",
    "test_pred_df['Ensembled'] = test_pred_df.mode(axis=1)\n",
    "\n",
    "print(roc_auc_score(y_test, test_pred_df['Ensembled']))\n",
    "print(classification_report(y_test, test_pred_df['Ensembled']))"
   ]
  },
  {
   "cell_type": "code",
   "execution_count": 170,
   "id": "3744673e",
   "metadata": {},
   "outputs": [
    {
     "data": {
      "text/plain": [
       "{'gender': 'Male',\n",
       " 'age': 33.0,\n",
       " 'hypertension': 0,\n",
       " 'heart_disease': 0,\n",
       " 'smoking_history': 'former',\n",
       " 'bmi': 35.81,\n",
       " 'hba1c_level': 5.8,\n",
       " 'blood_glucose_level': 140}"
      ]
     },
     "execution_count": 170,
     "metadata": {},
     "output_type": "execute_result"
    }
   ],
   "source": [
    "df_test.iloc[0].to_dict()"
   ]
  },
  {
   "cell_type": "code",
   "execution_count": 171,
   "id": "c23b94c7",
   "metadata": {},
   "outputs": [],
   "source": [
    "with open(\"../models/dv.bin\", \"wb\") as file_in:\n",
    "    pickle.dump(dv, file_in)\n",
    "    \n",
    "with open(\"../models/lr.bin\", \"wb\") as file_in:\n",
    "    pickle.dump(model, file_in)\n",
    "\n",
    "with open(\"../models/rf.bin\", \"wb\") as file_in:\n",
    "    pickle.dump(rf, file_in)\n",
    "\n",
    "with open(\"../models/xgb.bin\", \"wb\") as file_in:\n",
    "    pickle.dump(xgb_model, file_in)"
   ]
  },
  {
   "cell_type": "code",
   "execution_count": null,
   "id": "de578891",
   "metadata": {},
   "outputs": [],
   "source": []
  }
 ],
 "metadata": {
  "kernelspec": {
   "display_name": "Python 3 (ipykernel)",
   "language": "python",
   "name": "python3"
  },
  "language_info": {
   "codemirror_mode": {
    "name": "ipython",
    "version": 3
   },
   "file_extension": ".py",
   "mimetype": "text/x-python",
   "name": "python",
   "nbconvert_exporter": "python",
   "pygments_lexer": "ipython3",
   "version": "3.10.9"
  }
 },
 "nbformat": 4,
 "nbformat_minor": 5
}
